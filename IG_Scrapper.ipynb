{
 "cells": [
  {
   "cell_type": "markdown",
   "metadata": {},
   "source": [
    "# Instagram Scrapper\n",
    "\n",
    "## Introduction\n",
    "\n",
    "Greetings, in this notebook i'm going to implement an IG Scrapper in order to extract information needed from a specific page in Instagram Social Media. The reason I decided to implement it myself is tackling the problem first hands so I would have a clear vision and understanding in explanation of my thesis, also in order to make progress in my thesis and data-wise, I need to save my data and features in a specific way so my machine learning algorithm would work flawlessly.\n",
    "\n",
    "This Bot is made with the help of Mr. John G. Fisher, you can check the tutorial video and his youtube video here: [Mr. John G. Fisher Tutorial Video.](https://www.youtube.com/watch?v=7qcQDeShXpg&ab_channel=JohnG.Fisher)"
   ]
  },
  {
   "cell_type": "code",
   "execution_count": 2,
   "metadata": {},
   "outputs": [],
   "source": [
    "from selenium import webdriver\n",
    "import os\n",
    "import time\n",
    "import pandas as pd"
   ]
  },
  {
   "cell_type": "code",
   "execution_count": 27,
   "metadata": {},
   "outputs": [],
   "source": [
    "class InstagramBot:\n",
    "    def __init__(self, username, password) -> None:\n",
    "        self.username = username\n",
    "        self.password = password\n",
    "        self.driver = webdriver.Chrome('./chromedriver.exe')\n",
    "        \n",
    "    def login(self) -> None:\n",
    "        self.driver.get('https://www.instagram.com/accounts/login/')\n",
    "        time.sleep(2)\n",
    "        self.driver.find_element_by_name('username').send_keys(self.username)\n",
    "        self.driver.find_element_by_name('password').send_keys(self.password)\n",
    "        time.sleep(2)\n",
    "        self.driver.find_element_by_xpath('//*[@id=\"loginForm\"]/div/div[3]/button').click()"
   ]
  },
  {
   "cell_type": "code",
   "execution_count": 28,
   "metadata": {},
   "outputs": [
    {
     "name": "stdout",
     "output_type": "stream",
     "text": [
      "temp_username\n"
     ]
    }
   ],
   "source": [
    "if __name__ == '__main__':\n",
    "    ig_bot = InstagramBot('temp_username', 'temp_password')\n",
    "    ig_bot.login()\n",
    "    print(ig_bot.username)"
   ]
  },
  {
   "cell_type": "code",
   "execution_count": null,
   "metadata": {},
   "outputs": [],
   "source": []
  }
 ],
 "metadata": {
  "kernelspec": {
   "display_name": "Python 3",
   "language": "python",
   "name": "python3"
  },
  "language_info": {
   "codemirror_mode": {
    "name": "ipython",
    "version": 3
   },
   "file_extension": ".py",
   "mimetype": "text/x-python",
   "name": "python",
   "nbconvert_exporter": "python",
   "pygments_lexer": "ipython3",
   "version": "3.8.5"
  }
 },
 "nbformat": 4,
 "nbformat_minor": 4
}
