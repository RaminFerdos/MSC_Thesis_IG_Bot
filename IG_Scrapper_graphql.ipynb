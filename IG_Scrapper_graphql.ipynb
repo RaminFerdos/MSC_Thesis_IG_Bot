{
 "cells": [
  {
   "cell_type": "markdown",
   "metadata": {},
   "source": [
    "# Instagram Scrapper with GraphQL"
   ]
  },
  {
   "cell_type": "markdown",
   "metadata": {},
   "source": [
    "Greetings, in this notebook i'm going to implement an IG Scrapper in order to extract information needed from a specific page in Instagram Social Media. The reason I decided to implement it myself is tackling the problem first hands so I would have a clear vision and understanding in explanation of my thesis, also in order to make progress in my thesis and data-wise, I need to save my data and features in a specific way so my machine learning algorithm would work flawlessly.\n",
    "\n",
    "This Scrapper was implemented with the help of Igscrapper source code from realsirjoe Github account you can check it here: [realsirjoe Github Account](https://github.com/realsirjoe)"
   ]
  },
  {
   "cell_type": "markdown",
   "metadata": {},
   "source": [
    "### this section is for necessary imports:"
   ]
  },
  {
   "cell_type": "code",
   "execution_count": 65,
   "metadata": {},
   "outputs": [],
   "source": [
    "import pandas as pd\n",
    "import numpy as np\n",
    "import time\n",
    "import requests\n",
    "import json\n",
    "pd.set_option('display.max_columns', None)"
   ]
  },
  {
   "cell_type": "markdown",
   "metadata": {},
   "source": [
    "The main reason for implementing this scrapper is to retrieve comments from posts which I have their address in my dataset. Instagram use this format as its posts: \n",
    "\n",
    "\n",
    "https://instagram.com/p/some_chars_as_post_link/\n",
    "\n",
    "\n",
    "I had stored my posts link in a field in my dataset which you can see below some examples of it:"
   ]
  },
  {
   "cell_type": "code",
   "execution_count": 6,
   "metadata": {},
   "outputs": [
    {
     "data": {
      "text/html": [
       "<div>\n",
       "<style scoped>\n",
       "    .dataframe tbody tr th:only-of-type {\n",
       "        vertical-align: middle;\n",
       "    }\n",
       "\n",
       "    .dataframe tbody tr th {\n",
       "        vertical-align: top;\n",
       "    }\n",
       "\n",
       "    .dataframe thead th {\n",
       "        text-align: right;\n",
       "    }\n",
       "</style>\n",
       "<table border=\"1\" class=\"dataframe\">\n",
       "  <thead>\n",
       "    <tr style=\"text-align: right;\">\n",
       "      <th></th>\n",
       "      <th>index</th>\n",
       "      <th>post_link</th>\n",
       "      <th>caption</th>\n",
       "      <th>like</th>\n",
       "      <th>comment</th>\n",
       "      <th>share</th>\n",
       "      <th>save</th>\n",
       "      <th>reach</th>\n",
       "      <th>pf_visit</th>\n",
       "      <th>follows</th>\n",
       "      <th>impression</th>\n",
       "      <th>type</th>\n",
       "      <th>image-alt</th>\n",
       "    </tr>\n",
       "  </thead>\n",
       "  <tbody>\n",
       "    <tr>\n",
       "      <th>0</th>\n",
       "      <td>1</td>\n",
       "      <td>BhIjjhfFy7k</td>\n",
       "      <td>.\\n@BeKhatereMan\\n.\\nاگر شما هم نگران عزیزانتا...</td>\n",
       "      <td>58</td>\n",
       "      <td>1</td>\n",
       "      <td>0</td>\n",
       "      <td>0</td>\n",
       "      <td>7</td>\n",
       "      <td>0</td>\n",
       "      <td>0</td>\n",
       "      <td>7</td>\n",
       "      <td>logo</td>\n",
       "      <td>NaN</td>\n",
       "    </tr>\n",
       "    <tr>\n",
       "      <th>1</th>\n",
       "      <td>2</td>\n",
       "      <td>BhIjhiuF0Ip</td>\n",
       "      <td>.\\n@BeKhatereMan\\n.\\nاگر شما هم نگران عزیزانتا...</td>\n",
       "      <td>108</td>\n",
       "      <td>1</td>\n",
       "      <td>0</td>\n",
       "      <td>0</td>\n",
       "      <td>8</td>\n",
       "      <td>0</td>\n",
       "      <td>0</td>\n",
       "      <td>8</td>\n",
       "      <td>other_ads</td>\n",
       "      <td>NaN</td>\n",
       "    </tr>\n",
       "    <tr>\n",
       "      <th>2</th>\n",
       "      <td>3</td>\n",
       "      <td>BhIjehEFXZ0</td>\n",
       "      <td>.\\n@BeKhatereMan\\n.\\nاگر شما هم نگران عزیزانتا...</td>\n",
       "      <td>56</td>\n",
       "      <td>0</td>\n",
       "      <td>0</td>\n",
       "      <td>1</td>\n",
       "      <td>2</td>\n",
       "      <td>0</td>\n",
       "      <td>0</td>\n",
       "      <td>2</td>\n",
       "      <td>logo</td>\n",
       "      <td>NaN</td>\n",
       "    </tr>\n",
       "    <tr>\n",
       "      <th>3</th>\n",
       "      <td>4</td>\n",
       "      <td>BgGYNWABqeh</td>\n",
       "      <td>.\\n@BeKhatereMan\\n.\\nاگر شما هم نگران عزیزانتا...</td>\n",
       "      <td>30</td>\n",
       "      <td>0</td>\n",
       "      <td>0</td>\n",
       "      <td>0</td>\n",
       "      <td>2</td>\n",
       "      <td>0</td>\n",
       "      <td>0</td>\n",
       "      <td>2</td>\n",
       "      <td>other_ads</td>\n",
       "      <td>NaN</td>\n",
       "    </tr>\n",
       "    <tr>\n",
       "      <th>4</th>\n",
       "      <td>5</td>\n",
       "      <td>BgGYMmoBFjd</td>\n",
       "      <td>.\\n@BeKhatereMan\\n.\\nاگر شما هم نگران عزیزانتا...</td>\n",
       "      <td>40</td>\n",
       "      <td>0</td>\n",
       "      <td>0</td>\n",
       "      <td>0</td>\n",
       "      <td>2</td>\n",
       "      <td>1</td>\n",
       "      <td>0</td>\n",
       "      <td>2</td>\n",
       "      <td>other_ads</td>\n",
       "      <td>NaN</td>\n",
       "    </tr>\n",
       "  </tbody>\n",
       "</table>\n",
       "</div>"
      ],
      "text/plain": [
       "   index    post_link                                            caption  \\\n",
       "0      1  BhIjjhfFy7k  .\\n@BeKhatereMan\\n.\\nاگر شما هم نگران عزیزانتا...   \n",
       "1      2  BhIjhiuF0Ip  .\\n@BeKhatereMan\\n.\\nاگر شما هم نگران عزیزانتا...   \n",
       "2      3  BhIjehEFXZ0  .\\n@BeKhatereMan\\n.\\nاگر شما هم نگران عزیزانتا...   \n",
       "3      4  BgGYNWABqeh  .\\n@BeKhatereMan\\n.\\nاگر شما هم نگران عزیزانتا...   \n",
       "4      5  BgGYMmoBFjd  .\\n@BeKhatereMan\\n.\\nاگر شما هم نگران عزیزانتا...   \n",
       "\n",
       "   like  comment  share  save  reach  pf_visit  follows  impression  \\\n",
       "0    58        1      0     0      7         0        0           7   \n",
       "1   108        1      0     0      8         0        0           8   \n",
       "2    56        0      0     1      2         0        0           2   \n",
       "3    30        0      0     0      2         0        0           2   \n",
       "4    40        0      0     0      2         1        0           2   \n",
       "\n",
       "        type  image-alt  \n",
       "0       logo        NaN  \n",
       "1  other_ads        NaN  \n",
       "2       logo        NaN  \n",
       "3  other_ads        NaN  \n",
       "4  other_ads        NaN  "
      ]
     },
     "execution_count": 6,
     "metadata": {},
     "output_type": "execute_result"
    }
   ],
   "source": [
    "df_posts = pd.read_excel('Data/MSc_Thesis_Dataset.xlsx')\n",
    "df_posts.head()"
   ]
  },
  {
   "cell_type": "markdown",
   "metadata": {},
   "source": [
    "As you can see above my 'post_link' feature contains each post link which we just have to add it to the url we mentioned above to monitor it.\n",
    "\n",
    "There are two ways to tackle the problem of scraping comments of each post in instagram:\n",
    "1. using selenium library, opening Instagram Web, navigate to our post, retrieve comments for that post via web page source code.\n",
    "2. just use GraphQL and Json :)\n",
    "\n",
    "Obviously, proper way to doing this is using GraphQL since it's much more faster and actually we need our data in structured format so we can sort it and extract the part we want much easier. the objective is here to make a dataframe which contains useful information about the comments.\n",
    "\n",
    "To benefit from this method we need to pass a variable dictionary to this hash url:\n",
    "\n",
    "https://www.instagram.com/graphql/query/?query_hash=97b41c52301f77ce508f55e66d17620e\n",
    "\n",
    "and if you do it correctly, a json will be passed for you which contains comment information of requested post.\n",
    "Variables Dictionary contains:\n",
    "1. short code or url of in-mind post.\n",
    "2. quantity of comments you want to retrieve for each request.\n",
    "3. index of comment you want to recieve after that (when you want to get a post comments in multiple requests.)\n",
    "\n",
    "Before determining which features we want to have in our dataset regarding comments, we need to see which information are available for us via this way.\n",
    "\n",
    "Lets just test this method with one of our entries:"
   ]
  },
  {
   "cell_type": "code",
   "execution_count": 42,
   "metadata": {},
   "outputs": [
    {
     "data": {
      "text/plain": [
       "{'data': {'shortcode_media': {'edge_media_to_parent_comment': {'count': 3,\n",
       "    'page_info': {'has_next_page': False, 'end_cursor': None},\n",
       "    'edges': [{'node': {'id': '17904030238121618',\n",
       "       'text': '@Bekhatereman Kash Ye nega ham be direct haton mindKhtid',\n",
       "       'created_at': 1516067351,\n",
       "       'did_report_as_spam': False,\n",
       "       'owner': {'id': '5986010015',\n",
       "        'is_verified': False,\n",
       "        'profile_pic_url': 'https://scontent-bru2-1.cdninstagram.com/v/t51.2885-19/s150x150/97543380_248788369665493_8552836172030672896_n.jpg?_nc_ht=scontent-bru2-1.cdninstagram.com&_nc_ohc=LshR8AjdG-IAX_iI5F7&tp=1&oh=551cee0319dc76d5d1af64250bfbe94c&oe=5FE34193',\n",
       "        'username': 'dokhtaram_adrina'},\n",
       "       'viewer_has_liked': False,\n",
       "       'edge_liked_by': {'count': 0},\n",
       "       'edge_threaded_comments': {'count': 0,\n",
       "        'page_info': {'has_next_page': False, 'end_cursor': None},\n",
       "        'edges': []}}},\n",
       "     {'node': {'id': '17919087844025241',\n",
       "       'text': 'دوستان گرامی و عزیز ... خسته نباشید و خدا قوت ... منتظر کارها و عکسهای جدید هستیم ...سپاس از شما 🌷🌷🌷🌎🙆😍👍👌',\n",
       "       'created_at': 1516072234,\n",
       "       'did_report_as_spam': False,\n",
       "       'owner': {'id': '719874770',\n",
       "        'is_verified': False,\n",
       "        'profile_pic_url': 'https://scontent-bru2-1.cdninstagram.com/v/t51.2885-19/s150x150/120197657_736965963828775_5431666852032085471_n.jpg?_nc_ht=scontent-bru2-1.cdninstagram.com&_nc_ohc=QYJy4p4lg4oAX95Cey8&tp=1&oh=bd3066dd215b557cf7f622614ecf1fb1&oe=5FE2E8FE',\n",
       "        'username': 'lady._.designer'},\n",
       "       'viewer_has_liked': False,\n",
       "       'edge_liked_by': {'count': 0},\n",
       "       'edge_threaded_comments': {'count': 0,\n",
       "        'page_info': {'has_next_page': False, 'end_cursor': None},\n",
       "        'edges': []}}},\n",
       "     {'node': {'id': '17905619464085983',\n",
       "       'text': '#لعنت_به_ارين_موتور_دزد',\n",
       "       'created_at': 1518024840,\n",
       "       'did_report_as_spam': False,\n",
       "       'owner': {'id': '1730785530',\n",
       "        'is_verified': False,\n",
       "        'profile_pic_url': 'https://scontent-eze1-1.cdninstagram.com/v/t51.2885-19/44884218_345707102882519_2446069589734326272_n.jpg?_nc_ht=scontent-eze1-1.cdninstagram.com&_nc_ohc=eJfynleCkQkAX8-ZrEL&oh=e4c2b44e3b8186b92e9f15c5203e7c31&oe=5FE1568F&ig_cache_key=YW5vbnltb3VzX3Byb2ZpbGVfcGlj.2',\n",
       "        'username': 'mania_mind'},\n",
       "       'viewer_has_liked': False,\n",
       "       'edge_liked_by': {'count': 0},\n",
       "       'edge_threaded_comments': {'count': 0,\n",
       "        'page_info': {'has_next_page': False, 'end_cursor': None},\n",
       "        'edges': []}}}]}}},\n",
       " 'status': 'ok'}"
      ]
     },
     "execution_count": 42,
     "metadata": {},
     "output_type": "execute_result"
    }
   ],
   "source": [
    "number_of_comments_to_recieve = 50\n",
    "max_id = ''\n",
    "get_comment_url = 'https://www.instagram.com/graphql/query/?query_hash=97b41c52301f77ce508f55e66d17620e'\n",
    "\n",
    "# we can actually define a python dictionary for it.\n",
    "\n",
    "__variables = {\n",
    "    \"shortcode\": str(df_posts['post_link'][0]),\n",
    "    \"first\": str(number_of_comments_to_recieve),\n",
    "    \"after\": \"\" if not max_id else max_id\n",
    "}\n",
    "\n",
    "\n",
    "# but since we have to pass it as a string via GET method in url, \n",
    "# I find it easier to make variables dictonary a string in python before passing it.\n",
    "\n",
    "variables = '&variables={\"shortcode\":\"' + str(df_posts['post_link'][16]) +'\",\"first\":\"' + str(number_of_comments_to_recieve) + '\",\"after\":\"' + max_id + '\"}'\n",
    "\n",
    "json_response = requests.get(get_comment_url + variables).json()\n",
    "json_response"
   ]
  },
  {
   "cell_type": "markdown",
   "metadata": {},
   "source": [
    "If you are familiar with json you can understand the reply easily, this post had 1 comment we can see its quantity as 'count' field.\n",
    "\n",
    "each comment will be a 'node' in this json response which everyone of them have an id, comment text, create date, owner and much more useful information."
   ]
  },
  {
   "cell_type": "code",
   "execution_count": 64,
   "metadata": {},
   "outputs": [
    {
     "data": {
      "text/plain": [
       "{'id': '17904030238121618',\n",
       " 'text': '@Bekhatereman Kash Ye nega ham be direct haton mindKhtid',\n",
       " 'created_at': 1516067351,\n",
       " 'did_report_as_spam': False,\n",
       " 'owner': {'id': '5986010015',\n",
       "  'is_verified': False,\n",
       "  'profile_pic_url': 'https://scontent-bru2-1.cdninstagram.com/v/t51.2885-19/s150x150/97543380_248788369665493_8552836172030672896_n.jpg?_nc_ht=scontent-bru2-1.cdninstagram.com&_nc_ohc=LshR8AjdG-IAX_iI5F7&tp=1&oh=551cee0319dc76d5d1af64250bfbe94c&oe=5FE34193',\n",
       "  'username': 'dokhtaram_adrina'},\n",
       " 'viewer_has_liked': False,\n",
       " 'edge_liked_by': {'count': 0},\n",
       " 'edge_threaded_comments': {'count': 0,\n",
       "  'page_info': {'has_next_page': False, 'end_cursor': None},\n",
       "  'edges': []}}"
      ]
     },
     "execution_count": 64,
     "metadata": {},
     "output_type": "execute_result"
    }
   ],
   "source": [
    "comment_number = 0\n",
    "comments_retrieved = json_response['data']['shortcode_media']['edge_media_to_parent_comment']['count']\n",
    "json_response['data']['shortcode_media']['edge_media_to_parent_comment']['edges'][0]['node']"
   ]
  },
  {
   "cell_type": "code",
   "execution_count": 61,
   "metadata": {},
   "outputs": [
    {
     "name": "stdout",
     "output_type": "stream",
     "text": [
      "@Bekhatereman Kash Ye nega ham be direct haton mindKhtid\n",
      "دوستان گرامی و عزیز ... خسته نباشید و خدا قوت ... منتظر کارها و عکسهای جدید هستیم ...سپاس از شما 🌷🌷🌷🌎🙆😍👍👌\n",
      "#لعنت_به_ارين_موتور_دزد\n"
     ]
    }
   ],
   "source": [
    "comment_number = 0\n",
    "for i in range(comments_retrieved):\n",
    "    print(json_response['data']['shortcode_media']['edge_media_to_parent_comment']['edges'][i]['node']['text'])"
   ]
  },
  {
   "cell_type": "code",
   "execution_count": 74,
   "metadata": {},
   "outputs": [
    {
     "data": {
      "text/html": [
       "<div>\n",
       "<style scoped>\n",
       "    .dataframe tbody tr th:only-of-type {\n",
       "        vertical-align: middle;\n",
       "    }\n",
       "\n",
       "    .dataframe tbody tr th {\n",
       "        vertical-align: top;\n",
       "    }\n",
       "\n",
       "    .dataframe thead th {\n",
       "        text-align: right;\n",
       "    }\n",
       "</style>\n",
       "<table border=\"1\" class=\"dataframe\">\n",
       "  <thead>\n",
       "    <tr style=\"text-align: right;\">\n",
       "      <th></th>\n",
       "      <th>id</th>\n",
       "      <th>owner_username</th>\n",
       "      <th>text</th>\n",
       "    </tr>\n",
       "  </thead>\n",
       "  <tbody>\n",
       "    <tr>\n",
       "      <th>0</th>\n",
       "      <td>1</td>\n",
       "      <td>a</td>\n",
       "      <td>b</td>\n",
       "    </tr>\n",
       "    <tr>\n",
       "      <th>1</th>\n",
       "      <td>2</td>\n",
       "      <td>aa</td>\n",
       "      <td>bb</td>\n",
       "    </tr>\n",
       "  </tbody>\n",
       "</table>\n",
       "</div>"
      ],
      "text/plain": [
       "   id owner_username text\n",
       "0   1              a    b\n",
       "1   2             aa   bb"
      ]
     },
     "execution_count": 74,
     "metadata": {},
     "output_type": "execute_result"
    }
   ],
   "source": [
    "temp_data = {'id' : [1,2],\n",
    "             'owner_username' : ['a','aa'],\n",
    "             'text' : ['b','bb']}\n",
    "df_test = pd.DataFrame(data = temp_data)\n",
    "df_test"
   ]
  },
  {
   "cell_type": "code",
   "execution_count": null,
   "metadata": {},
   "outputs": [],
   "source": []
  }
 ],
 "metadata": {
  "kernelspec": {
   "display_name": "Python 3",
   "language": "python",
   "name": "python3"
  },
  "language_info": {
   "codemirror_mode": {
    "name": "ipython",
    "version": 3
   },
   "file_extension": ".py",
   "mimetype": "text/x-python",
   "name": "python",
   "nbconvert_exporter": "python",
   "pygments_lexer": "ipython3",
   "version": "3.8.5"
  }
 },
 "nbformat": 4,
 "nbformat_minor": 4
}
