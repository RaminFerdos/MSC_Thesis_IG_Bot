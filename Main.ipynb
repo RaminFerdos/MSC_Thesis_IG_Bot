{
 "cells": [
  {
   "cell_type": "markdown",
   "metadata": {},
   "source": [
    "# Assessing the Effectiveness of Digital Advertising Campaigns on Instagram Social Media Based on Sentiment Analysis and Considering Advertising Costs - Ramin Ferdos"
   ]
  },
  {
   "cell_type": "markdown",
   "metadata": {},
   "source": [
    "## Introduction\n",
    "\n",
    "As we are progressing in many fields and surfacing of innovations, the way business publicize and promote their products of services adopts. As we disscussed in the previous chapters of this thesis, digital marketing is a hot topic not only in advertising field but also among other scopes such as management. This thesis is not focused on the importance and nature of the \"Digital Marketing\" since this scope is very rich and should be discussed by experts. This thesis is focused on the how we can assess effectiveness of digital marketing advertising campaings on Instagram via multiple methods. These methods are inherited mainly from statistics and data science, Also we adopt machine learning techniques so we could train apropriate model for predicting other campaigns within this specific scope.\n",
    "\n",
    "Marketing is an important and distinct section of each organization, its strategies and budgets have many important and effective factors. Advanced companies annually invest alot in this section, since they witnessed the power of digital marketing and the effect of proper use of social media. There is a wide range of social and each one of them have unique features and audience, in other words, each social medium is made for a purpose. For instance, we have professional social media called LinkedIn in which people are usually talk about the business or academy side of their lives, you can list jobs or enlist yourself in one and find a work suitable for you, also this social media can play the role of your CV as well.\n",
    "[[Ref. 1]](http://press.linkedin.com/about/)\n",
    "[[Ref. 2]](http://www.newyorker.com/magazine/2015/10/12/the-network-man)\n",
    "As in May 2020, this social media had 706 million registered members in 150 countries. [[Ref. 3]](https://about.linkedin.com/)\n",
    "\n",
    "On the other hand we have a social media like twitter, in which people share their personal life and opinions mainly via short text which called \"tweets\" this tweets are usually less than 140 characters and 270 characters for non-CJK languages. [[Ref. 4]](https://help.twitter.com/en/using-twitter/twitter-sms-faqs) [[Ref. 5]](https://about.twitter.com/company) [[Ref. 6]](https://blog.twitter.com/official/en_us/topics/product/2017/tweetingmadeeasier.html) In 2013, it was one of the ten most-visited websites and has been described as \"the SMS of the Internet\". [[Ref. 7]](http://www.business-standard.com/india/news/swine-flu%5Cs-tweet-tweet-causes-online-flutter/356604/) As of 2018, Twitter had more than 321 million monthly active users. [[Ref. 8]](https://www.usatoday.com/story/tech/news/2017/10/26/twitter-overcounted-active-users-since-2014-shares-surge/801968001/)\n",
    "\n",
    "As mentioned earlier, social media are different in nature and can't (shouldn't) be categorized into a single section. Audience in each social medium react differently to types of content they expect to see. For instance, a joke probably will recieve many likes and impressions in Twitter but same joke will recieve only bad feedbacks in LinkedIn even with same audience. You might ask why? the simple reason is that people don't expect to see other contents than business or academic related ones in LinkedIn and will react aggresively when they are faced with one. [[Ref. 9]](https://munna-prawin.medium.com/linkedin-is-not-facebook-3f1c2143c66d)\n",
    "\n",
    "While several factors influence digital marketing budgets, like the size of your company and the scope of your project, the average digital marketing budget ranges from $30,000 to $145,000 per year for small-medium buinesses. [[Ref. 10]](https://www.webfx.com/digital-marketing-pricing.html) Keep in mind bigger coperations and businesses invest much more in digital marketing regarding their strategies and goals, this number is just a rough metric to sense the industry we are talking about financial size.\n",
    "\n",
    "The selected social medium in this research is Instagram. Instagram is an American photo and video sharing social networking service owned by Facebook, created by Kevin Systrom and Mike Krieger and originally launched on iOS in October 2010. [[Ref. 11]](https://books.google.com/books?id=XXzADwAAQBAJ) After its launch in 2010, Instagram rapidly gained popularity, with one million registered users in two months, 10 million in a year, and 1 billion as of June 2018. [[Ref. 12]](https://social.techcrunch.com/2018/06/20/instagram-1-billion-users/) According to the Alexa website, Instagram is the most popular social networking site in Iran. [[Ref. 13]](https://www.alexa.com/topsites/countries/IR)\n",
    "\n",
    "In this research we are focusing on the \"Bekhaterman\" CSR campaign which was held by Sisarv Marcom Agency in 2018 for Mitsubishi brand in Iran. We are assessing this campaign and train our model with the data of this campaign in order to train our model.\n",
    "\n",
    "It's worth to mention that we are going to use CRISP-DM Methodology for the process."
   ]
  },
  {
   "cell_type": "markdown",
   "metadata": {},
   "source": [
    "----"
   ]
  },
  {
   "cell_type": "markdown",
   "metadata": {},
   "source": [
    "## Business Understanding\n",
    "\n",
    "As we mentioned earlier, Instagram is the most popular social networking website/application in Iran, thus it won't be a surprise that many companies launch their advertising campaigns on this medium. Each post in Instagram have some performance metrics. With these metrics we can determine the performance of our post. Also suggestion algorithm of this social medium performs based on these metrics. These metrics such as: Impression, Like, Comments and etc. plays an important rule in performance of each post thus overall performance of our advertising campaigns.\n",
    "\n",
    "Success of a post in this social media is like playing flappy bird game. [[Ref. 14]](https://www.telegraph.co.uk/technology/news/10604366/What-is-Flappy-Bird-The-game-taking-the-App-Store-by-storm.html) This statement means that if you being able to achieve good amount of this performance metrics early when you post you content, your post will go further and will be suggested by Instagram feed algorithm to more people and eventaully will be shown at \"Explore Page\", thus more people will seen it and this cycle repeats until your performance metrics drops. This means that, you should boost your content in its early hours of publication if you want to generate organic views and etc.\n",
    "\n",
    "Before we go further it's wise to briefly explain the \"Explore Page\" of Instagram. This specific page which can be accessed via a shortcut in application, one of the most important features of this social medium. In this page you will see contents (posts, stories, IG Tvs and etc.) from public pages **which you do not followed**. If you being able to make your most appear on this section, your content will gain alot of organic views and etc. Explore Page for each and every account in this social medium is different, this means that the explore page I will see in my account is unique and different from other people. We can conclude that there is a algorithm which generates the content every account could see on their explore page. \n",
    "\n",
    "With some try and error, you will deduct that your explore page is related to your interactions with other contents and followers, for instance if you visit or like pictures of cats in this social medium, you will find some pictures of cats similar to ones you like earlier on this page and etc. Instagram never anounce the details of this recommender system type of algorithm, but it's proven that in order to reach this page you will need to boost your metric performances.\n",
    "\n",
    "For this research as we said earlier we are going to use \"Bekhaterman\" campaign data. This dataset which was gathered all by myself through automation and in some cases reviewing old reports and mining information since this campaign was held almost 3 ~ 4 years ago. This dataset contains 4 major parts which I structured them in seperate sheets:\n",
    "\n",
    "1. Posts: In this sheet I saved every post of this campaign as records, features of this records are post_link, caption of each post, performance metrics (such as no. likes, no. comments and etc.), type of each post and image_alt. In type feature, since this campaign was structured campaign I categorized every post into some category to analyze performance of each category and some useful insights in data exploration phase. image_alt is a interesting feature, as you know Instagram is mainly known for its mobile application, but this social medium is also have a very unique and interesting web application. Almost majority of posts in Instagram web application have alt attribute in which Instagram performed computer vision process on them and write what is available in picture. I managed to extract this feature via automation which you can monitor its details in \"IG_Scrapper_graphql.ipynb\" file and save it here. This feature might be able to give us some interesting insights in data exploration phase.\n",
    "2. UGC: UGC is an abbreviation of \"User-Generated Content\". This section is for posts which was published or re-published via other users. I categorized every user into 3 categories; public user, page & influencers. Other features of this sheet are post_link, caption, performance metrics, user_id and etc.\n",
    "3. Ads: short form of \"advertisments\". This sheet is a host of every single advertising post this campaign had for promotion. Since digital marketing advertising is not a structured buisness in Iran, copyright law is not a available in this country and financial restrictions, \"media owners\" do not use \"promotion\" tool of Instagram, thus they publish designated advertising content in their page and after agreed duration (usually 24 hours) they take a picture from recieved views and sent it to customer. Some \"media owners\" also send the performance metrics of advertising content. With this information and aggregated data, I withheld a Data Imputation in order to predict advertising posts without performance metrics based on other advertising contents which their performance metric was available. You can see the exact steps and its details in the \"Data_Imputation.ipynb\" file. \"media owner\" is someone/s who admins a pages and manage its content and etc.\n",
    "4. Comments: this sheet is for every comment on our campaign posts. I was being able to recieve every single comment via a technique through graphql since the official api of Instagram is not a developer friendly and unofficial api which was a go-to soultions for developers is not available no more. [[Ref. 15]](https://github.com/LevPasha/Instagram-API-python) You can monitor its detailed information and technique I have used in \"IG_Scrapper_graphql.ipynb\". Since at the authoring of this research, there are no useable library for sentiment analysis of persian comments, I decided to use a preliminary technique which include tagging positive and negative comments through some specific words and emojies. Which I used this parameter further in training a classifier model.\n",
    "\n",
    "### <<< for the final paragraph i have to state the goal and machine learning technique i want to use in order to get to the objective. >>>"
   ]
  },
  {
   "cell_type": "markdown",
   "metadata": {},
   "source": [
    "-----"
   ]
  },
  {
   "cell_type": "markdown",
   "metadata": {},
   "source": [
    "- Ref 1: \"LinkedIn – About\". LinkedIn Corporation. 2015. Retrieved March 5, 2015.\n",
    "- Ref 2: Lemann, Nicholas (October 12, 2015). \"Reid Hoffman's Big Dreams for LinkedIn\". The New Yorker.\n",
    "- Ref 3: \"About LinkedIn\". about.linkedin.com. Retrieved December 16, 2019.\n",
    "- Ref 4: \"Twitter via SMS FAQ\" Retrieved April 4, 2019.\n",
    "- Ref 5: \"About Twitter\" Retrieved April 24, 2014.\n",
    "- Ref 6: \"Tweeting Made Easier\" Retrieved November 7, 2017.\n",
    "- Ref 7: D'Monte, Leslie (April 29, 2009). \"Swine Flu's Tweet Tweet Causes Online Flutter\". Business Standard. Retrieved February 4, 2011. Also known as the 'SMS of the internet', Twitter is a free social networking service'\n",
    "- Ref 8: Twitter overcounted active users since 2014, shares surge on profit hopes\". USA Today.\n",
    "- Ref 9: \"LinkedIn IS NOT Facebook\" - Munna Prawin Feburary 24, 2020\n",
    "- Ref 10: Digital Marketing Pricing: How Much Does Digital Marketing Cost in 2020? - webfx.com\n",
    "- Ref 11: For example: Edwards, Erica B.; Esposito, Jennifer (2019). \"Reading social media intersectionally\". Intersectional Analysis as a Method to Analyze Popular Culture: Clarity in the Matrix. Futures of Data Analysis in Qualitative Research. Abingdon: Routledge. ISBN 9780429557002. Retrieved May 7, 2020. Instagram (IG) is a photo sharing app created in October of 2010 allowing users to share photos and videos.\n",
    "- Ref 12: \"Instagram hits 1 billion monthly users, up from 800M in September\". TechCrunch. Retrieved October 23, 2020.\n",
    "- Ref 13: Christallkeks Pixelsnader Techso01 - Own work Map base: File:BlankMap-World.svg (2019-09-03 version) Information: Alexa's Top 500 sites in each country as of 2019-09-08 - https://en.wikipedia.org/wiki/Instagram#/media/File:Most_popular_social_networking_sites_by_country.svg\n",
    "- Ref 14: Williams, Rhiannon. \"What is Flappy Bird? The game taking the App Store by storm\". The Daily Telegraph. Archived from the original on January 30, 2014. Retrieved January 30, 2014.\n",
    "- Ref 15: https://github.com/LevPasha/Instagram-API-python"
   ]
  },
  {
   "cell_type": "code",
   "execution_count": null,
   "metadata": {},
   "outputs": [],
   "source": []
  }
 ],
 "metadata": {
  "kernelspec": {
   "display_name": "Python 3",
   "language": "python",
   "name": "python3"
  },
  "language_info": {
   "codemirror_mode": {
    "name": "ipython",
    "version": 3
   },
   "file_extension": ".py",
   "mimetype": "text/x-python",
   "name": "python",
   "nbconvert_exporter": "python",
   "pygments_lexer": "ipython3",
   "version": "3.8.5"
  }
 },
 "nbformat": 4,
 "nbformat_minor": 4
}
