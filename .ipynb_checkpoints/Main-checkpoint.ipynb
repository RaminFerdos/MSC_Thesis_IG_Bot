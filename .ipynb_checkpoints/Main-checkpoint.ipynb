{
 "cells": [
  {
   "cell_type": "markdown",
   "metadata": {},
   "source": [
    "# Assessing the Effectiveness of Digital Advertising Campaigns on Instagram Social Media Based on Sentiment Analysis and Considering Advertising Costs - Ramin Ferdos"
   ]
  },
  {
   "cell_type": "markdown",
   "metadata": {},
   "source": [
    "## Introduction\n",
    "\n",
    "As we are progressing in many fields and surfacing of innovations, the way business publicize and promote their products of services adopts. As we disscussed in the previous chapters of this thesis, digital marketing is a hot topic not only in advertising field but also among other scopes such as management. This thesis is not focused on the importance and nature of the \"Digital Marketing\" since this scope is very rich and should be discussed by experts. This thesis is focused on the how we can assess effectiveness of digital marketing advertising campaings on Instagram via multiple methods. These methods are inherited mainly from statistics and data science, Also we adopt machine learning techniques so we could train apropriate model for predicting other campaigns within this specific scope.\n",
    "\n",
    "Marketing is an important and distinct section of each organization, its strategies and budgets have many important and effective factors. Advanced companies annually invest alot in this section, since they witnessed the power of digital marketing and the effect of proper use of social media. There is a wide range of social and each one of them have unique features and audience, in other words, each social medium is made for a purpose. For instance, we have professional social media called LinkedIn in which people are usually talk about the business or academy side of their lives, you can list jobs or enlist yourself in one and find a work suitable for you, also this social media can play the role of your CV as well.\n",
    "[[Ref. 1]](http://press.linkedin.com/about/)\n",
    "[[Ref. 2]](http://www.newyorker.com/magazine/2015/10/12/the-network-man)\n",
    "As in May 2020, this social media had 706 million registered members in 150 countries. [[Ref. 3]](https://about.linkedin.com/)\n",
    "\n",
    "On the other hand we have a social media like twitter, in which people share their personal life and opinions mainly via short text which called \"tweets\" this tweets are usually less than 140 characters and 270 characters for non-CJK languages. [[Ref. 4]](https://help.twitter.com/en/using-twitter/twitter-sms-faqs) [[Ref. 5]](https://about.twitter.com/company) [[Ref. 6]](https://blog.twitter.com/official/en_us/topics/product/2017/tweetingmadeeasier.html) In 2013, it was one of the ten most-visited websites and has been described as \"the SMS of the Internet\". [[Ref. 7]](http://www.business-standard.com/india/news/swine-flu%5Cs-tweet-tweet-causes-online-flutter/356604/) As of 2018, Twitter had more than 321 million monthly active users. [[Ref. 8]](https://www.usatoday.com/story/tech/news/2017/10/26/twitter-overcounted-active-users-since-2014-shares-surge/801968001/)\n",
    "\n",
    "As mentioned earlier, social media are different in nature and can't (shouldn't) be categorized into a single section. Audience in each social medium react differently to types of content they expect to see. For instance, a joke probably will recieve many likes and impressions in Twitter but same joke will recieve only bad feedbacks in LinkedIn even with same audience. You might ask why? the simple reason is that people don't expect to see other contents than business or academic related ones in LinkedIn and will react aggresively when they are faced with one. [[Ref. 9]](https://munna-prawin.medium.com/linkedin-is-not-facebook-3f1c2143c66d)\n",
    "\n",
    "While several factors influence digital marketing budgets, like the size of your company and the scope of your project, the average digital marketing budget ranges from $30,000 to $145,000 per year for small-medium buinesses. [[Ref. 10]](https://www.webfx.com/digital-marketing-pricing.html) Keep in mind bigger coperations and businesses invest much more in digital marketing regarding their strategies and goals, this number is just a rough metric to sense the industry we are talking about financial size.\n",
    "\n",
    "The selected social medium in this research is Instagram. Instagram is an American photo and video sharing social networking service owned by Facebook, created by Kevin Systrom and Mike Krieger and originally launched on iOS in October 2010. [[Ref. 11]](https://books.google.com/books?id=XXzADwAAQBAJ) After its launch in 2010, Instagram rapidly gained popularity, with one million registered users in two months, 10 million in a year, and 1 billion as of June 2018. [[Ref. 12]](https://social.techcrunch.com/2018/06/20/instagram-1-billion-users/) According to the Alexa website, Instagram is the most popular social networking site in Iran. [[Ref. 13]](https://www.alexa.com/topsites/countries/IR)\n",
    "\n",
    "In this research we are focusing on the \"Bekhaterman\" CSR campaign which was held by Sisarf Marcom Agency in 2018 for Mitsubishi brand in Iran. We are assessing this campaign and train our model with the data of this campaign in order to train our model.\n",
    "\n",
    "It's worth to mention that we are going to use CRISP-DM Methodology for the process."
   ]
  },
  {
   "cell_type": "markdown",
   "metadata": {},
   "source": [
    "-----"
   ]
  },
  {
   "cell_type": "markdown",
   "metadata": {},
   "source": [
    "- Ref 1: \"LinkedIn – About\". LinkedIn Corporation. 2015. Retrieved March 5, 2015.\n",
    "- Ref 2: Lemann, Nicholas (October 12, 2015). \"Reid Hoffman's Big Dreams for LinkedIn\". The New Yorker.\n",
    "- Ref 3: \"About LinkedIn\". about.linkedin.com. Retrieved December 16, 2019.\n",
    "- Ref 4: \"Twitter via SMS FAQ\" Retrieved April 4, 2019.\n",
    "- Ref 5: \"About Twitter\" Retrieved April 24, 2014.\n",
    "- Ref 6: \"Tweeting Made Easier\" Retrieved November 7, 2017.\n",
    "- Ref 7: D'Monte, Leslie (April 29, 2009). \"Swine Flu's Tweet Tweet Causes Online Flutter\". Business Standard. Retrieved February 4, 2011. Also known as the 'SMS of the internet', Twitter is a free social networking service'\n",
    "- Ref 8: Twitter overcounted active users since 2014, shares surge on profit hopes\". USA Today.\n",
    "- Ref 9: \"LinkedIn IS NOT Facebook\" - Munna Prawin Feburary 24, 2020\n",
    "- Ref 10: Digital Marketing Pricing: How Much Does Digital Marketing Cost in 2020? - webfx.com\n",
    "- Ref 11: For example: Edwards, Erica B.; Esposito, Jennifer (2019). \"Reading social media intersectionally\". Intersectional Analysis as a Method to Analyze Popular Culture: Clarity in the Matrix. Futures of Data Analysis in Qualitative Research. Abingdon: Routledge. ISBN 9780429557002. Retrieved May 7, 2020. Instagram (IG) is a photo sharing app created in October of 2010 allowing users to share photos and videos.\n",
    "- Ref 12: \"Instagram hits 1 billion monthly users, up from 800M in September\". TechCrunch. Retrieved October 23, 2020.\n",
    "- Ref 13: Christallkeks Pixelsnader Techso01 - Own work Map base: File:BlankMap-World.svg (2019-09-03 version) Information: Alexa's Top 500 sites in each country as of 2019-09-08 - https://en.wikipedia.org/wiki/Instagram#/media/File:Most_popular_social_networking_sites_by_country.svg\n",
    "- "
   ]
  },
  {
   "cell_type": "code",
   "execution_count": null,
   "metadata": {},
   "outputs": [],
   "source": []
  }
 ],
 "metadata": {
  "kernelspec": {
   "display_name": "Python 3",
   "language": "python",
   "name": "python3"
  },
  "language_info": {
   "codemirror_mode": {
    "name": "ipython",
    "version": 3
   },
   "file_extension": ".py",
   "mimetype": "text/x-python",
   "name": "python",
   "nbconvert_exporter": "python",
   "pygments_lexer": "ipython3",
   "version": "3.8.5"
  }
 },
 "nbformat": 4,
 "nbformat_minor": 4
}
