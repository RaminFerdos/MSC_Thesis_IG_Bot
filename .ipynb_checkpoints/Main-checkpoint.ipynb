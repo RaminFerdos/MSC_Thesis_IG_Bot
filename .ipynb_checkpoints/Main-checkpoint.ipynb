{
 "cells": [
  {
   "cell_type": "markdown",
   "metadata": {},
   "source": [
    "# Assessing the Effectiveness of Digital Advertising Campaigns on Instagram Social Media Based on Sentiment Analysis and Considering Advertising Costs - Ramin Ferdos"
   ]
  },
  {
   "cell_type": "markdown",
   "metadata": {},
   "source": [
    "## Introduction\n",
    "\n",
    "As we are progressing in many fields and surfacing of innovations, the way business publicize and promote their products of services adopts. As we disscussed in the previous chapters of this thesis, digital marketing is a hot topic not only in advertising field but also among other scopes such as management. This thesis is not focused on the importance and nature of the \"Digital Marketing\" since this scope is very rich and should be discussed by experts. This thesis is focused on the how we can assess effectiveness of digital marketing advertising campaings on Instagram via multiple methods. These methods are inherited mainly from statistics and data science, Also we adopt machine learning techniques so we could train apropriate model for predicting other campaigns within this specific scope.\n",
    "\n",
    "Marketing is an important and distinct section of each organization, its strategies and budgets have many important and effective factors. Advanced companies annually invest alot in this section, since they witnessed the power of digital marketing and the effect of proper use of social media. There is a wide range of social and each one of them have unique features and audience, in other words, each social medium is made for a purpose. For instance, we have professional social media called LinkedIn in which people are usually talk about the business or academy side of their lives, you can list jobs or enlist yourself in one and find a work suitable for you, also this social media can play the role of your CV as well.\n",
    "[[Ref. 1]](http://press.linkedin.com/about/)\n",
    "[[Ref. 2]](http://www.newyorker.com/magazine/2015/10/12/the-network-man)\n",
    "As in May 2020, this social media had 706 million registered members in 150 countries. [[Ref. 3]](https://about.linkedin.com/)\n",
    "\n",
    "On the other hand we have a social media like twitter, in which people share their personal life and opinions mainly via short text which called \"tweets\". these tweets are usually less than 140 characters and 270 characters for non-CJK languages. [[Ref. 4]](https://help.twitter.com/en/using-twitter/twitter-sms-faqs) [[Ref. 5]](https://about.twitter.com/company) [[Ref. 6]](https://blog.twitter.com/official/en_us/topics/product/2017/tweetingmadeeasier.html) In 2013, it was one of the ten most-visited websites and has been described as \"the SMS of the Internet\". [[Ref. 7]](http://www.business-standard.com/india/news/swine-flu%5Cs-tweet-tweet-causes-online-flutter/356604/) As of 2018, Twitter had more than 321 million monthly active users. [[Ref. 8]](https://www.usatoday.com/story/tech/news/2017/10/26/twitter-overcounted-active-users-since-2014-shares-surge/801968001/)\n",
    "\n",
    "As mentioned earlier, social media are different in nature and can't (shouldn't) be categorized into a single section. Audience in each social medium react differently to types of content they expect to see. For instance, a joke probably will recieve many likes and impressions in Twitter but same joke will recieve only bad feedbacks in LinkedIn even with same audience. You might ask why? the simple reason is that people don't expect to see other contents than business or academic related ones in LinkedIn and will react aggresively when they are faced with one. [[Ref. 9]](https://munna-prawin.medium.com/linkedin-is-not-facebook-3f1c2143c66d)\n",
    "\n",
    "While several factors influence digital marketing budgets, like the size of your company and the scope of your project, the average digital marketing budget ranges from 30,000 usd to 145,000 usd per year for small-medium buinesses. [[Ref. 10]](https://www.webfx.com/digital-marketing-pricing.html) Keep in mind bigger coperations and businesses invest much more in digital marketing regarding their strategies and goals, this number is just a rough metric to sense the industry we are talking about financial size.\n",
    "\n",
    "The selected social medium in this research is Instagram. Instagram is an American photo and video sharing social networking service owned by Facebook, created by Kevin Systrom and Mike Krieger and originally launched on iOS in October 2010. [[Ref. 11]](https://books.google.com/books?id=XXzADwAAQBAJ) After its launch in 2010, Instagram rapidly gained popularity, with one million registered users in two months, 10 million in a year, and 1 billion as of June 2018. [[Ref. 12]](https://social.techcrunch.com/2018/06/20/instagram-1-billion-users/) According to the Alexa website, Instagram is the most popular social networking site in Iran. [[Ref. 13]](https://www.alexa.com/topsites/countries/IR)\n",
    "\n",
    "In this research we are focusing on the \"Bekhaterman\" CSR campaign which was held by Sisarv Marcom Agency in 2018 for Mitsubishi brand in Iran. We are assessing this campaign and train our model with the data of this campaign in order to train our model.\n",
    "\n",
    "It's worth to mention that we are going to use CRISP-DM Methodology for the process."
   ]
  },
  {
   "cell_type": "markdown",
   "metadata": {},
   "source": [
    "----"
   ]
  },
  {
   "cell_type": "markdown",
   "metadata": {},
   "source": [
    "## Business Understanding\n",
    "\n",
    "As we mentioned earlier, Instagram is the most popular social networking website/application in Iran, thus it won't be a surprise that many companies launch their advertising campaigns on this medium. Each post in Instagram have some performance metrics. With these metrics we can determine the performance of our post. Also suggestion algorithm of this social medium performs based on these metrics. These metrics such as: Impression, Like, Comments and etc. plays an important rule in performance of each post thus overall performance of our advertising campaigns.\n",
    "\n",
    "Success of a post in this social media is like playing flappy bird game. [[Ref. 14]](https://www.telegraph.co.uk/technology/news/10604366/What-is-Flappy-Bird-The-game-taking-the-App-Store-by-storm.html) This statement means that if you being able to achieve good amount of this performance metrics early when you post you content, your post will go further and will be suggested by Instagram feed algorithm to more people and eventaully will be shown at \"Explore Page\", thus more people will seen it and this cycle repeats until your performance metrics drops. This means that, you should boost your content in its early hours of publication if you want to generate organic views and etc.\n",
    "\n",
    "Before we go further it's wise to briefly explain the \"Explore Page\" of Instagram. This specific page which can be accessed via a shortcut in application, one of the most important features of this social medium. In this page you will see contents (posts, stories, IG Tvs and etc.) from public pages **which you do not followed**. If you being able to make your most appear on this section, your content will gain alot of organic views and etc. Explore Page for each and every account in this social medium is different, this means that the explore page I will see in my account is unique and different from other people. We can conclude that there is a algorithm which generates the content every account could see on their explore page. \n",
    "\n",
    "With some try and error, you will deduct that your explore page is related to your interactions with other contents and followers, for instance if you visit or like pictures of cats in this social medium, you will find some pictures of cats similar to ones you like earlier on this page and etc. Instagram never anounce the details of this recommender system type of algorithm, but it's proven that in order to reach this page you will need to boost your metric performances.\n",
    "\n",
    "For this research as we said earlier we are going to use \"Bekhaterman\" campaign data. This dataset which was gathered all by myself through automation and in some cases reviewing old reports and mining information since this campaign was held almost 3 ~ 4 years ago. This dataset contains 4 major parts which I structured them in seperate sheets:\n",
    "\n",
    "1. Posts: In this sheet I saved every post of this campaign as records, features of this records are post_link, caption of each post, performance metrics (such as no. likes, no. comments and etc.), type of each post and image_alt. In type feature, since this campaign was structured campaign I categorized every post into some category to analyze performance of each category and some useful insights in data exploration phase. image_alt is a interesting feature, as you know Instagram is mainly known for its mobile application, but this social medium is also have a very unique and interesting web application. Almost majority of posts in Instagram web application have alt attribute in which Instagram performed computer vision process on them and write what is available in picture. I managed to extract this feature via automation which you can monitor its details in \"IG_Scrapper_graphql.ipynb\" file and save it here. This feature might be able to give us some interesting insights in data exploration phase.\n",
    "2. UGC: UGC is an abbreviation of \"User-Generated Content\". This section is for posts which was published or re-published via other users. I categorized every user into 3 categories; public user, page & influencers. Other features of this sheet are post_link, caption, performance metrics, user_id and etc.\n",
    "3. Ads: short form of \"advertisments\". This sheet is a host of every single advertising post this campaign had for promotion. Since digital marketing advertising is not a structured buisness in Iran, copyright law is not a available in this country and financial restrictions, \"media owners\" do not use \"promotion\" tool of Instagram, thus they publish designated advertising content in their page and after agreed duration (usually 24 hours) they take a picture from recieved views and sent it to customer. Some \"media owners\" also send the performance metrics of advertising content. With this information and aggregated data, I withheld a Data Imputation in order to predict advertising posts without performance metrics based on other advertising contents which their performance metric was available. You can see the exact steps and its details in the \"Data_Imputation.ipynb\" file. \"media owner\" is someone/s who admins a pages and manage its content and etc.\n",
    "4. Comments: this sheet is for every comment on our campaign posts. I was being able to recieve every single comment via a technique through graphql since the official api of Instagram is not a developer friendly and unofficial api which was a go-to soultions for developers is not available no more. [[Ref. 15]](https://github.com/LevPasha/Instagram-API-python) You can monitor its detailed information and technique I have used in \"IG_Scrapper_graphql.ipynb\". Since at the the time this article is being written there are no useable library for sentiment analysis of persian comments, I decided to use a preliminary technique which include tagging positive and negative comments through some specific words and emojies. Which I used this parameter further in training a classifier model.\n",
    "\n",
    "We can tackle this problem via multiple points in which every single one of them require a machine learning algorithm. To asses this campaign via parameters of advertising cost and sentiment analysis, we need to calculate this parameters seperately:\n",
    "\n",
    "- for sentiment analysis, as I have disscussed in bullet no. 4 above, I will be using a tagging method then calculate the overall sentiment of this campaign regarding the sentiment of each post which will extracted from users comment on each post.\n",
    "- for effectiveness based on the advertising cost, we will asign a \"effectiveness score\" based on view retrieved for each ad and the cost of it. The target cost for each view in this platform at that time is a specific threshold which I will discuss detailed on the related section.\n",
    "\n",
    "Beside this methods, we can also make clusters of posts, influencer and advertising ads for this campaign and train model based on this clusters, so when we are going to add new post, influencer or media for advertising in our campaign (or overally), we can predict that what will the performance of designated item based on the data which is publicly available."
   ]
  },
  {
   "cell_type": "markdown",
   "metadata": {},
   "source": [
    "----"
   ]
  },
  {
   "cell_type": "markdown",
   "metadata": {},
   "source": [
    "## Analytical Approach\n",
    "\n",
    "Based on the problem definition, we are facing two types of problem: 1. Classification 2. CLustering\n",
    "\n",
    "There are multiple algorithms for each problem:\n",
    "\n",
    "For Classification:\n",
    "- K Nearest Neighbor\n",
    "- Decision Tree\n",
    "- Logistic Regression\n",
    "- Support Vector Machine\n",
    "- and etc.\n",
    "\n",
    "For Clustering:\n",
    "- Partioned-Based Clustering:\n",
    "    - K-means\n",
    "    - K-median\n",
    "    - Fuzzy c-means\n",
    "    - and etc.\n",
    "- Hierarchial Clustering:\n",
    "    - divisive\n",
    "    - agglomerative\n",
    "    - and etc.\n",
    "- Density-Based Clustering:\n",
    "    - dbscan\n",
    "    - and etc.\n",
    "    \n",
    "Since our dataset is not rich enough, using neural networks will not increase our accuracy siginificantly, also computational cost of our models will not be an issue since dataset are not really big, so we can train multiple classifiers models and select the best one.\n",
    "\n",
    "For clustering problem, I'll use different algorithms parallelly but based on evidence, Hierarchial clustering is probably our go to solution since our dataset is fairly small in quantity. "
   ]
  },
  {
   "cell_type": "markdown",
   "metadata": {},
   "source": [
    "---"
   ]
  },
  {
   "cell_type": "markdown",
   "metadata": {},
   "source": [
    "## Data Requirements\n",
    "\n",
    "There are 2 major approaches in the Data science field regarding industry projects, 1. you define objective and ask your business question, data science expert(s) will tell you what data and features do they need, 2. you provide available data to the data expert(s) and they tell you what questions and insights could be extracted from this data.\n",
    "\n",
    "In this project, our objective is to determine the effectiveness of a digital advertising campaign on Instagram social media. The data available to us are campaign performance metrics, advertising cost and users interaction with campaign's contents. Previously I discussed how will I going to determine effectiveness based on the available information, For now lets discuss more speciality about the data and its features.\n",
    "\n",
    "1. Campaign Performance Metrics: A Digital campaign on Instagram is made up from multiple contents. Based on the goal, strategy and type of the campaign, these contents may be different or have different related portions. Since this campaign was a CSR one and due to its nature, the main content type of it was posts. every post have some metrics which are listed and I provide a simple explanation for ever one of them.\n",
    "    - post_link: Every post on the Instagram have a unique short-code thus if you know this code you can access the post directly, if the account who published the post is public one. This feature was used in scraper in order to retrieve each post comments and image-alt.\n",
    "    - caption: The text caption with each post is saved into this feature.\n",
    "    - like: The amount of \"likes\" each post acquired.\n",
    "    - comment: The amount of \"comments\" each post acquired.\n",
    "    - share: The amount of times people shared the content via in-app messaging service. Please have in mind that due to a new privacy rules in europe, some messaging campaign have been paused, thus the number of this feature might be higher than shown for each post. [[Ref. 16]](https://www.facebook.com/business/help/574941489951914)\n",
    "    - save: The amount of times users saved the post into their archieve section of account.\n",
    "    - reach: The number of unique accounts that have seen the post. According to the Instgaram insight section, \"The reach metric is an **estimate** and may not be exact.\"\n",
    "    - pf_visit: The amount of times people visited publisher profile via this specific post.\n",
    "    - follows: The number of accounts that started following publisher via this specific post.\n",
    "    - type: This campaign posts' content could be categorized into the type of the posts. These categories are \"logo\", \"other_ads\", \"user\", \"influencer\" and etc. Based on this feature I filtered some posts to retrieve alt since for instance Instagram computer vision algorithm didn't add information to posts types such as \"logo\" and etc.\n",
    "    - image_alt: As I pointed earlier, Instagram perform a computer vision algorithm for every public post in order to detect what objects are shown in the picture, this information is accessible via web application of Instagram. I implemented a automation bot to retrieve this information for every post and save it to this feature. If you are interested in the implementation of this bot you can check the file \"IG_Scrapper_graphql.ipynb\".\n",
    "\n",
    "    To Perform our classification method to this dataset we have to add a feature which represent our dependent variable or \"y\". In Data Preparation phase I will discuss the process, goal and implementation of this variable based on other metric.\n",
    "    \n",
    "2. Advertising Cost: Previously, We discussed a little bit about the usual process of buying advertisements in Instagram at Iran. Unfortunately since this campaign is for 3 years ago, the price of each media is not recorded so its not available for us. To tackle this problem, we divide the overall cost of advertising in Instagram to quantity of media. This average fee is compared to the result of < view * price threshold >. Before we advance further, its important to discuss about \"price threshold\". \"price threshold\" is an important factor, this parameter is something that \"promotion manager\" role in advertising agency tune his/hers media with. The norm price threshold at the time of this campaign for Instagram media was 15 toman per view. the goal is to keep each view cost for every media below or equal to this price threshold, sometimes due to the importance of the media or other strategical factors some exceptions might be implemented but overally this price threshold is a benchmark for optimizing the campaign cost. Based on this price threshold we calculate feature which will act as our dependent variable or y.\n",
    "\n",
    "3. Users' interaction with campaign contents: Advertising contents are made for users, so it's obvious that their opinion about the content they had seen is an important factor regarding the quality and effectiveness of seen advertising content. Instagram social network is based on two important features, likes and comments. The culture of digital social networking made people freely comment their opinion. This fact is two-edged sword, users opinions are easily accessible but due to some other features which are not in the scope of this research, griefing and trolling are not a rare thing in social networks. The art of extracting sentiment from text-based data is called \"sentiment analysis\". We can define it via use of natural language processing, text analysis, computational linguistics, and biometrics to systematically identify, extract, quantify, and study affective states and subjective information. [[Ref. 17]](https://en.wikipedia.org/wiki/Sentiment_analysis) Since this campaign is held for persian people, obviously, all of the comments are persian and persian characters use utf-8 coding, current libraries for sentiment analysis are not tuned for persian language. Developing a NLP model for this task is also not in the scope of this research, thus we are using a simple tagging method for extracting the sentiment of each comments based on pre-defined list of words and emojies so we can train the model to distinguish comments based on content and emojies used in each comment to predict the tag or equally sentiment of each comment. I will discuss this matter detailed at the related section about this technique."
   ]
  },
  {
   "cell_type": "markdown",
   "metadata": {},
   "source": [
    "---"
   ]
  },
  {
   "cell_type": "markdown",
   "metadata": {},
   "source": [
    "## Data Collections\n",
    "\n",
    "As I stated earlier, data required for this research was gathered via different methods such as using a scrapper and imputer.\n",
    "\n",
    "The Data which is used for this research is available at the GitHub Repository of this project. Please be informed that if you are accessing the data at the time of progression of the research, you can't access it since its already been working on, but as soon as the research finished and defense session is conducted, you can access via the way I said freely.\n",
    "\n",
    "Let's check and explore the data available for this research:"
   ]
  },
  {
   "cell_type": "code",
   "execution_count": 1,
   "metadata": {},
   "outputs": [],
   "source": [
    "import pandas as pd\n",
    "import numpy as np\n",
    "import matplotlib.pyplot as plt\n",
    "import seaborn as sns\n",
    "pd.set_option('display.max_columns', None)\n",
    "np.set_printoptions(suppress=True)"
   ]
  },
  {
   "cell_type": "code",
   "execution_count": 2,
   "metadata": {},
   "outputs": [],
   "source": [
    "xls = pd.ExcelFile('data/msc_thesis_dataset.xlsx')\n",
    "df_posts = pd.read_excel(xls, 'Posts')\n",
    "df_ugc = pd.read_excel(xls, 'UGC')\n",
    "df_ads = pd.read_excel(xls, 'Ads')\n",
    "df_comments = pd.read_excel(xls, 'Comments')"
   ]
  },
  {
   "cell_type": "markdown",
   "metadata": {},
   "source": [
    "First 5 rowns of \"posts\" dataframe are:"
   ]
  },
  {
   "cell_type": "code",
   "execution_count": 3,
   "metadata": {},
   "outputs": [
    {
     "data": {
      "text/html": [
       "<div>\n",
       "<style scoped>\n",
       "    .dataframe tbody tr th:only-of-type {\n",
       "        vertical-align: middle;\n",
       "    }\n",
       "\n",
       "    .dataframe tbody tr th {\n",
       "        vertical-align: top;\n",
       "    }\n",
       "\n",
       "    .dataframe thead th {\n",
       "        text-align: right;\n",
       "    }\n",
       "</style>\n",
       "<table border=\"1\" class=\"dataframe\">\n",
       "  <thead>\n",
       "    <tr style=\"text-align: right;\">\n",
       "      <th></th>\n",
       "      <th>index</th>\n",
       "      <th>post_link</th>\n",
       "      <th>caption</th>\n",
       "      <th>like</th>\n",
       "      <th>comment</th>\n",
       "      <th>share</th>\n",
       "      <th>save</th>\n",
       "      <th>reach</th>\n",
       "      <th>pf_visit</th>\n",
       "      <th>follows</th>\n",
       "      <th>impression</th>\n",
       "      <th>type</th>\n",
       "      <th>image-alt</th>\n",
       "    </tr>\n",
       "  </thead>\n",
       "  <tbody>\n",
       "    <tr>\n",
       "      <th>0</th>\n",
       "      <td>0</td>\n",
       "      <td>BhIjjhfFy7k</td>\n",
       "      <td>.\\n@BeKhatereMan\\n.\\nاگر شما هم نگران عزیزانتا...</td>\n",
       "      <td>58</td>\n",
       "      <td>1</td>\n",
       "      <td>0</td>\n",
       "      <td>0</td>\n",
       "      <td>7</td>\n",
       "      <td>0</td>\n",
       "      <td>0</td>\n",
       "      <td>7</td>\n",
       "      <td>logo</td>\n",
       "      <td>NaN</td>\n",
       "    </tr>\n",
       "    <tr>\n",
       "      <th>1</th>\n",
       "      <td>1</td>\n",
       "      <td>BhIjhiuF0Ip</td>\n",
       "      <td>.\\n@BeKhatereMan\\n.\\nاگر شما هم نگران عزیزانتا...</td>\n",
       "      <td>108</td>\n",
       "      <td>1</td>\n",
       "      <td>0</td>\n",
       "      <td>0</td>\n",
       "      <td>8</td>\n",
       "      <td>0</td>\n",
       "      <td>0</td>\n",
       "      <td>8</td>\n",
       "      <td>other_ads</td>\n",
       "      <td>NaN</td>\n",
       "    </tr>\n",
       "    <tr>\n",
       "      <th>2</th>\n",
       "      <td>2</td>\n",
       "      <td>BhIjehEFXZ0</td>\n",
       "      <td>.\\n@BeKhatereMan\\n.\\nاگر شما هم نگران عزیزانتا...</td>\n",
       "      <td>56</td>\n",
       "      <td>0</td>\n",
       "      <td>0</td>\n",
       "      <td>1</td>\n",
       "      <td>2</td>\n",
       "      <td>0</td>\n",
       "      <td>0</td>\n",
       "      <td>2</td>\n",
       "      <td>logo</td>\n",
       "      <td>NaN</td>\n",
       "    </tr>\n",
       "    <tr>\n",
       "      <th>3</th>\n",
       "      <td>3</td>\n",
       "      <td>BgGYNWABqeh</td>\n",
       "      <td>.\\n@BeKhatereMan\\n.\\nاگر شما هم نگران عزیزانتا...</td>\n",
       "      <td>30</td>\n",
       "      <td>0</td>\n",
       "      <td>0</td>\n",
       "      <td>0</td>\n",
       "      <td>2</td>\n",
       "      <td>0</td>\n",
       "      <td>0</td>\n",
       "      <td>2</td>\n",
       "      <td>other_ads</td>\n",
       "      <td>NaN</td>\n",
       "    </tr>\n",
       "    <tr>\n",
       "      <th>4</th>\n",
       "      <td>4</td>\n",
       "      <td>BgGYMmoBFjd</td>\n",
       "      <td>.\\n@BeKhatereMan\\n.\\nاگر شما هم نگران عزیزانتا...</td>\n",
       "      <td>40</td>\n",
       "      <td>0</td>\n",
       "      <td>0</td>\n",
       "      <td>0</td>\n",
       "      <td>2</td>\n",
       "      <td>1</td>\n",
       "      <td>0</td>\n",
       "      <td>2</td>\n",
       "      <td>other_ads</td>\n",
       "      <td>NaN</td>\n",
       "    </tr>\n",
       "  </tbody>\n",
       "</table>\n",
       "</div>"
      ],
      "text/plain": [
       "   index    post_link                                            caption  \\\n",
       "0      0  BhIjjhfFy7k  .\\n@BeKhatereMan\\n.\\nاگر شما هم نگران عزیزانتا...   \n",
       "1      1  BhIjhiuF0Ip  .\\n@BeKhatereMan\\n.\\nاگر شما هم نگران عزیزانتا...   \n",
       "2      2  BhIjehEFXZ0  .\\n@BeKhatereMan\\n.\\nاگر شما هم نگران عزیزانتا...   \n",
       "3      3  BgGYNWABqeh  .\\n@BeKhatereMan\\n.\\nاگر شما هم نگران عزیزانتا...   \n",
       "4      4  BgGYMmoBFjd  .\\n@BeKhatereMan\\n.\\nاگر شما هم نگران عزیزانتا...   \n",
       "\n",
       "   like  comment  share  save  reach  pf_visit  follows  impression  \\\n",
       "0    58        1      0     0      7         0        0           7   \n",
       "1   108        1      0     0      8         0        0           8   \n",
       "2    56        0      0     1      2         0        0           2   \n",
       "3    30        0      0     0      2         0        0           2   \n",
       "4    40        0      0     0      2         1        0           2   \n",
       "\n",
       "        type image-alt  \n",
       "0       logo       NaN  \n",
       "1  other_ads       NaN  \n",
       "2       logo       NaN  \n",
       "3  other_ads       NaN  \n",
       "4  other_ads       NaN  "
      ]
     },
     "execution_count": 3,
     "metadata": {},
     "output_type": "execute_result"
    }
   ],
   "source": [
    "df_posts.drop(columns = ['index.1'], inplace = True)\n",
    "df_posts.head()"
   ]
  },
  {
   "cell_type": "markdown",
   "metadata": {},
   "source": [
    "First 5 rows of 'UGC' dataframe are:"
   ]
  },
  {
   "cell_type": "code",
   "execution_count": 4,
   "metadata": {},
   "outputs": [
    {
     "data": {
      "text/html": [
       "<div>\n",
       "<style scoped>\n",
       "    .dataframe tbody tr th:only-of-type {\n",
       "        vertical-align: middle;\n",
       "    }\n",
       "\n",
       "    .dataframe tbody tr th {\n",
       "        vertical-align: top;\n",
       "    }\n",
       "\n",
       "    .dataframe thead th {\n",
       "        text-align: right;\n",
       "    }\n",
       "</style>\n",
       "<table border=\"1\" class=\"dataframe\">\n",
       "  <thead>\n",
       "    <tr style=\"text-align: right;\">\n",
       "      <th></th>\n",
       "      <th>index</th>\n",
       "      <th>post_link</th>\n",
       "      <th>caption</th>\n",
       "      <th>like</th>\n",
       "      <th>view</th>\n",
       "      <th>followers</th>\n",
       "      <th>type</th>\n",
       "      <th>user_id</th>\n",
       "    </tr>\n",
       "  </thead>\n",
       "  <tbody>\n",
       "    <tr>\n",
       "      <th>0</th>\n",
       "      <td>1</td>\n",
       "      <td>BYDHz_SAejh</td>\n",
       "      <td>میدونم که ماشین نداری🙍\\n-میدونم که الان نمیتو...</td>\n",
       "      <td>172</td>\n",
       "      <td>0</td>\n",
       "      <td>1982</td>\n",
       "      <td>user</td>\n",
       "      <td>moh3nkh76</td>\n",
       "    </tr>\n",
       "    <tr>\n",
       "      <th>1</th>\n",
       "      <td>2</td>\n",
       "      <td>BfVIQ6ahvMO</td>\n",
       "      <td>شکار لحظه ها!!!!!!🤣🤣🤣\\n.\\n.\\nشکار لحظه ها!!!!...</td>\n",
       "      <td>583</td>\n",
       "      <td>0</td>\n",
       "      <td>9055</td>\n",
       "      <td>influencer</td>\n",
       "      <td>arianarjabadi</td>\n",
       "    </tr>\n",
       "    <tr>\n",
       "      <th>2</th>\n",
       "      <td>3</td>\n",
       "      <td>BZWd84cDIV2</td>\n",
       "      <td>😘😘😘\\n#دخترم#دریا#نهال\\nبابا جون وقتی با موتور...</td>\n",
       "      <td>54</td>\n",
       "      <td>0</td>\n",
       "      <td>2315</td>\n",
       "      <td>user</td>\n",
       "      <td>dokhtaram_nahal</td>\n",
       "    </tr>\n",
       "    <tr>\n",
       "      <th>3</th>\n",
       "      <td>4</td>\n",
       "      <td>BZY6bigjMR4</td>\n",
       "      <td>^\\nعشقم پدر والاتراز جانم لطفا هنگام رانندگے ...</td>\n",
       "      <td>11</td>\n",
       "      <td>0</td>\n",
       "      <td>29254</td>\n",
       "      <td>user</td>\n",
       "      <td>dokhtaram_adrina</td>\n",
       "    </tr>\n",
       "    <tr>\n",
       "      <th>4</th>\n",
       "      <td>5</td>\n",
       "      <td>BZOGxkxH7bH</td>\n",
       "      <td>@ArianMotor\\n\\nدر زندگی فرصت دوباره‌ای وجود ن...</td>\n",
       "      <td>17</td>\n",
       "      <td>0</td>\n",
       "      <td>812</td>\n",
       "      <td>user</td>\n",
       "      <td>manoochehr4209</td>\n",
       "    </tr>\n",
       "  </tbody>\n",
       "</table>\n",
       "</div>"
      ],
      "text/plain": [
       "   index    post_link                                            caption  \\\n",
       "0      1  BYDHz_SAejh   میدونم که ماشین نداری🙍\\n-میدونم که الان نمیتو...   \n",
       "1      2  BfVIQ6ahvMO   شکار لحظه ها!!!!!!🤣🤣🤣\\n.\\n.\\nشکار لحظه ها!!!!...   \n",
       "2      3  BZWd84cDIV2   😘😘😘\\n#دخترم#دریا#نهال\\nبابا جون وقتی با موتور...   \n",
       "3      4  BZY6bigjMR4   ^\\nعشقم پدر والاتراز جانم لطفا هنگام رانندگے ...   \n",
       "4      5  BZOGxkxH7bH   @ArianMotor\\n\\nدر زندگی فرصت دوباره‌ای وجود ن...   \n",
       "\n",
       "   like  view  followers        type           user_id  \n",
       "0   172     0       1982        user         moh3nkh76  \n",
       "1   583     0       9055  influencer     arianarjabadi  \n",
       "2    54     0       2315        user   dokhtaram_nahal  \n",
       "3    11     0      29254        user  dokhtaram_adrina  \n",
       "4    17     0        812        user    manoochehr4209  "
      ]
     },
     "execution_count": 4,
     "metadata": {},
     "output_type": "execute_result"
    }
   ],
   "source": [
    "df_ugc.head()"
   ]
  },
  {
   "cell_type": "markdown",
   "metadata": {},
   "source": [
    "First 5 rows of 'Ads' dataframe are:"
   ]
  },
  {
   "cell_type": "code",
   "execution_count": 5,
   "metadata": {},
   "outputs": [
    {
     "data": {
      "text/html": [
       "<div>\n",
       "<style scoped>\n",
       "    .dataframe tbody tr th:only-of-type {\n",
       "        vertical-align: middle;\n",
       "    }\n",
       "\n",
       "    .dataframe tbody tr th {\n",
       "        vertical-align: top;\n",
       "    }\n",
       "\n",
       "    .dataframe thead th {\n",
       "        text-align: right;\n",
       "    }\n",
       "</style>\n",
       "<table border=\"1\" class=\"dataframe\">\n",
       "  <thead>\n",
       "    <tr style=\"text-align: right;\">\n",
       "      <th></th>\n",
       "      <th>index</th>\n",
       "      <th>post_link</th>\n",
       "      <th>caption</th>\n",
       "      <th>user_id</th>\n",
       "      <th>followers_current</th>\n",
       "      <th>view</th>\n",
       "      <th>like</th>\n",
       "      <th>comment</th>\n",
       "      <th>save</th>\n",
       "      <th>impression</th>\n",
       "      <th>reach</th>\n",
       "      <th>engagement</th>\n",
       "    </tr>\n",
       "  </thead>\n",
       "  <tbody>\n",
       "    <tr>\n",
       "      <th>0</th>\n",
       "      <td>0</td>\n",
       "      <td>BX3IiPYHOaN</td>\n",
       "      <td>@BeKhatereMan\\n.\\nاگر شما هم نگران عزیزانتان ...</td>\n",
       "      <td>akharinkhabar</td>\n",
       "      <td>992000.0</td>\n",
       "      <td>21489</td>\n",
       "      <td>2306</td>\n",
       "      <td>16</td>\n",
       "      <td>165</td>\n",
       "      <td>60643</td>\n",
       "      <td>51931</td>\n",
       "      <td>2492</td>\n",
       "    </tr>\n",
       "    <tr>\n",
       "      <th>1</th>\n",
       "      <td>1</td>\n",
       "      <td>NaN</td>\n",
       "      <td>@BeKhatereMan\\n.\\nاگر شما هم نگران عزیزانتان ...</td>\n",
       "      <td>3kansbartar</td>\n",
       "      <td>1502221.0</td>\n",
       "      <td>39495</td>\n",
       "      <td>6809</td>\n",
       "      <td>36</td>\n",
       "      <td>352</td>\n",
       "      <td>162000</td>\n",
       "      <td>129000</td>\n",
       "      <td>7197</td>\n",
       "    </tr>\n",
       "    <tr>\n",
       "      <th>2</th>\n",
       "      <td>2</td>\n",
       "      <td>NaN</td>\n",
       "      <td>@BeKhatereMan\\n.\\nاگر شما هم نگران عزیزانتان ...</td>\n",
       "      <td>bache_khordani</td>\n",
       "      <td>NaN</td>\n",
       "      <td>5838</td>\n",
       "      <td>794</td>\n",
       "      <td>7</td>\n",
       "      <td>61</td>\n",
       "      <td>30100</td>\n",
       "      <td>23300</td>\n",
       "      <td>862</td>\n",
       "    </tr>\n",
       "    <tr>\n",
       "      <th>3</th>\n",
       "      <td>3</td>\n",
       "      <td>NaN</td>\n",
       "      <td>@BeKhatereMan\\n.\\nاگر شما هم نگران عزیزانتان ...</td>\n",
       "      <td>ajibtar_az_elm</td>\n",
       "      <td>636403.0</td>\n",
       "      <td>14327</td>\n",
       "      <td>2319</td>\n",
       "      <td>12</td>\n",
       "      <td>117</td>\n",
       "      <td>55971</td>\n",
       "      <td>44949</td>\n",
       "      <td>2445</td>\n",
       "    </tr>\n",
       "    <tr>\n",
       "      <th>4</th>\n",
       "      <td>4</td>\n",
       "      <td>NaN</td>\n",
       "      <td>@BeKhatereMan\\n.\\nاگر شما هم نگران عزیزانتان ...</td>\n",
       "      <td>banoo.page</td>\n",
       "      <td>1476998.0</td>\n",
       "      <td>10305</td>\n",
       "      <td>2327</td>\n",
       "      <td>9</td>\n",
       "      <td>90</td>\n",
       "      <td>53348</td>\n",
       "      <td>41028</td>\n",
       "      <td>2418</td>\n",
       "    </tr>\n",
       "  </tbody>\n",
       "</table>\n",
       "</div>"
      ],
      "text/plain": [
       "   index    post_link                                            caption  \\\n",
       "0      0  BX3IiPYHOaN   @BeKhatereMan\\n.\\nاگر شما هم نگران عزیزانتان ...   \n",
       "1      1          NaN   @BeKhatereMan\\n.\\nاگر شما هم نگران عزیزانتان ...   \n",
       "2      2          NaN   @BeKhatereMan\\n.\\nاگر شما هم نگران عزیزانتان ...   \n",
       "3      3          NaN   @BeKhatereMan\\n.\\nاگر شما هم نگران عزیزانتان ...   \n",
       "4      4          NaN   @BeKhatereMan\\n.\\nاگر شما هم نگران عزیزانتان ...   \n",
       "\n",
       "          user_id  followers_current   view  like  comment  save  impression  \\\n",
       "0   akharinkhabar           992000.0  21489  2306       16   165       60643   \n",
       "1     3kansbartar          1502221.0  39495  6809       36   352      162000   \n",
       "2  bache_khordani                NaN   5838   794        7    61       30100   \n",
       "3  ajibtar_az_elm           636403.0  14327  2319       12   117       55971   \n",
       "4      banoo.page          1476998.0  10305  2327        9    90       53348   \n",
       "\n",
       "    reach  engagement  \n",
       "0   51931        2492  \n",
       "1  129000        7197  \n",
       "2   23300         862  \n",
       "3   44949        2445  \n",
       "4   41028        2418  "
      ]
     },
     "execution_count": 5,
     "metadata": {},
     "output_type": "execute_result"
    }
   ],
   "source": [
    "df_ads.drop(columns = ['index.1'], inplace = True)\n",
    "df_ads.head()"
   ]
  },
  {
   "cell_type": "markdown",
   "metadata": {},
   "source": [
    "First 5 rows of 'Comments' dataframe are:"
   ]
  },
  {
   "cell_type": "code",
   "execution_count": 6,
   "metadata": {},
   "outputs": [
    {
     "data": {
      "text/html": [
       "<div>\n",
       "<style scoped>\n",
       "    .dataframe tbody tr th:only-of-type {\n",
       "        vertical-align: middle;\n",
       "    }\n",
       "\n",
       "    .dataframe tbody tr th {\n",
       "        vertical-align: top;\n",
       "    }\n",
       "\n",
       "    .dataframe thead th {\n",
       "        text-align: right;\n",
       "    }\n",
       "</style>\n",
       "<table border=\"1\" class=\"dataframe\">\n",
       "  <thead>\n",
       "    <tr style=\"text-align: right;\">\n",
       "      <th></th>\n",
       "      <th>id</th>\n",
       "      <th>owner_username</th>\n",
       "      <th>text</th>\n",
       "      <th>post_link</th>\n",
       "    </tr>\n",
       "  </thead>\n",
       "  <tbody>\n",
       "    <tr>\n",
       "      <th>0</th>\n",
       "      <td>17925563803134200</td>\n",
       "      <td>antalya_amlak_best</td>\n",
       "      <td>برای دریافت بهترین قیمتهای املاک در آنتالیا تر...</td>\n",
       "      <td>BhIjjhfFy7k</td>\n",
       "    </tr>\n",
       "    <tr>\n",
       "      <th>1</th>\n",
       "      <td>17857688434300040</td>\n",
       "      <td>pariyanikookar</td>\n",
       "      <td>عالی بود لایک داره😍👍</td>\n",
       "      <td>BhIjhiuF0Ip</td>\n",
       "    </tr>\n",
       "    <tr>\n",
       "      <th>2</th>\n",
       "      <td>17912877673509430</td>\n",
       "      <td>lady._.designer</td>\n",
       "      <td>👍👌SUPER😍LIKE👌👍</td>\n",
       "      <td>BfqQTe9FHvR</td>\n",
       "    </tr>\n",
       "    <tr>\n",
       "      <th>3</th>\n",
       "      <td>17939183302119900</td>\n",
       "      <td>originalshow</td>\n",
       "      <td>پیج تون فوق العاده س😍</td>\n",
       "      <td>BfqQSf3lsml</td>\n",
       "    </tr>\n",
       "    <tr>\n",
       "      <th>4</th>\n",
       "      <td>17921061856066360</td>\n",
       "      <td>qn_mkc</td>\n",
       "      <td>سلام مسابقہ جدیدہ؟</td>\n",
       "      <td>BfbUhNxlzaJ</td>\n",
       "    </tr>\n",
       "  </tbody>\n",
       "</table>\n",
       "</div>"
      ],
      "text/plain": [
       "                  id      owner_username  \\\n",
       "0  17925563803134200  antalya_amlak_best   \n",
       "1  17857688434300040      pariyanikookar   \n",
       "2  17912877673509430     lady._.designer   \n",
       "3  17939183302119900        originalshow   \n",
       "4  17921061856066360              qn_mkc   \n",
       "\n",
       "                                                text    post_link  \n",
       "0  برای دریافت بهترین قیمتهای املاک در آنتالیا تر...  BhIjjhfFy7k  \n",
       "1                               عالی بود لایک داره😍👍  BhIjhiuF0Ip  \n",
       "2                                     👍👌SUPER😍LIKE👌👍  BfqQTe9FHvR  \n",
       "3                              پیج تون فوق العاده س😍  BfqQSf3lsml  \n",
       "4                                 سلام مسابقہ جدیدہ؟  BfbUhNxlzaJ  "
      ]
     },
     "execution_count": 6,
     "metadata": {},
     "output_type": "execute_result"
    }
   ],
   "source": [
    "df_comments.drop(columns = ['Unnamed: 0', 'Unnamed: 0.1'], inplace = True)\n",
    "df_comments.head()"
   ]
  },
  {
   "cell_type": "code",
   "execution_count": 7,
   "metadata": {},
   "outputs": [
    {
     "name": "stdout",
     "output_type": "stream",
     "text": [
      "Our initial dataset status are this way:\n",
      "\"Posts\" dataset have 312 records and 13 features.\n",
      "\"UGC\" dataset have 49 records and 8 features.\n",
      "\"Ads\" dataset have 45 records and 12 features.\n",
      "\"Comments\" dataset have 407 records and 4 features.\n"
     ]
    }
   ],
   "source": [
    "print('Our initial dataset status are this way:')\n",
    "print(f'\"Posts\" dataset have {df_posts.shape[0]} records and {df_posts.shape[1]} features.')\n",
    "print(f'\"UGC\" dataset have {df_ugc.shape[0]} records and {df_ugc.shape[1]} features.')\n",
    "print(f'\"Ads\" dataset have {df_ads.shape[0]} records and {df_ads.shape[1]} features.')\n",
    "print(f'\"Comments\" dataset have {df_comments.shape[0]} records and {df_comments.shape[1]} features.')"
   ]
  },
  {
   "cell_type": "markdown",
   "metadata": {},
   "source": [
    "as you can see above we have read the data successfully, checked its heads and discovered number of total records and features."
   ]
  },
  {
   "cell_type": "markdown",
   "metadata": {},
   "source": [
    "---"
   ]
  },
  {
   "cell_type": "markdown",
   "metadata": {},
   "source": [
    "## Data Preparations\n",
    "\n",
    "This section is one of the most important steps in our methodology. In this step, we are going to prepare our data for process and prediction. this step takes most of the projects time usually and should be taken with caution. Fortunately, since the process of gathering data was held after the definition of objectives, goals and requirements, I fairly cleanly held this step, thus the data are fairly clean and ready to use.\n",
    "\n",
    "But as we said earlier, our 'Ads' dataset lack a dependent variable which is necessary in order to train a classification model. The implementation of these variable is held here. In case you are considering what is the next dependent variable, to address this inquiry our dependent variable in 'posts' dataset are like feature, Since like is a important parameter regarding the effectiveness of a post in Instagram.\n",
    "\n",
    "Other task we have to implement in this step is addressing categorical variables (types, image_alt and etc.) to make them acceptable for training in classification model. I will discuss this matter after the implementation of price and explore it with details."
   ]
  },
  {
   "cell_type": "markdown",
   "metadata": {},
   "source": [
    "#### Media Price Effectiveness Indicator\n",
    "\n",
    "As I state before, since this campaign was held almost 3 years ago, unfortunately the cost of each media advertisement is not available for us. Also since the amount of followers at the time of advertisement is not available also, we couldn't predict this data, But the other thing we can do about this matter is divide the overall amount of advertisement cost to number of media and check it with price threshold in order to calculate if that advertisement was effective based on cost or not, thus our dependent variable or y is calculated."
   ]
  },
  {
   "cell_type": "code",
   "execution_count": 8,
   "metadata": {},
   "outputs": [
    {
     "data": {
      "text/html": [
       "<div>\n",
       "<style scoped>\n",
       "    .dataframe tbody tr th:only-of-type {\n",
       "        vertical-align: middle;\n",
       "    }\n",
       "\n",
       "    .dataframe tbody tr th {\n",
       "        vertical-align: top;\n",
       "    }\n",
       "\n",
       "    .dataframe thead th {\n",
       "        text-align: right;\n",
       "    }\n",
       "</style>\n",
       "<table border=\"1\" class=\"dataframe\">\n",
       "  <thead>\n",
       "    <tr style=\"text-align: right;\">\n",
       "      <th></th>\n",
       "      <th>index</th>\n",
       "      <th>post_link</th>\n",
       "      <th>caption</th>\n",
       "      <th>user_id</th>\n",
       "      <th>followers_current</th>\n",
       "      <th>view</th>\n",
       "      <th>like</th>\n",
       "      <th>comment</th>\n",
       "      <th>save</th>\n",
       "      <th>impression</th>\n",
       "      <th>reach</th>\n",
       "      <th>engagement</th>\n",
       "      <th>price_difference</th>\n",
       "      <th>y</th>\n",
       "    </tr>\n",
       "  </thead>\n",
       "  <tbody>\n",
       "    <tr>\n",
       "      <th>0</th>\n",
       "      <td>0</td>\n",
       "      <td>BX3IiPYHOaN</td>\n",
       "      <td>@BeKhatereMan\\n.\\nاگر شما هم نگران عزیزانتان ...</td>\n",
       "      <td>akharinkhabar</td>\n",
       "      <td>992000.0</td>\n",
       "      <td>21489</td>\n",
       "      <td>2306</td>\n",
       "      <td>16</td>\n",
       "      <td>165</td>\n",
       "      <td>60643</td>\n",
       "      <td>51931</td>\n",
       "      <td>2492</td>\n",
       "      <td>307671.0</td>\n",
       "      <td>1</td>\n",
       "    </tr>\n",
       "    <tr>\n",
       "      <th>1</th>\n",
       "      <td>1</td>\n",
       "      <td>NaN</td>\n",
       "      <td>@BeKhatereMan\\n.\\nاگر شما هم نگران عزیزانتان ...</td>\n",
       "      <td>3kansbartar</td>\n",
       "      <td>1502221.0</td>\n",
       "      <td>39495</td>\n",
       "      <td>6809</td>\n",
       "      <td>36</td>\n",
       "      <td>352</td>\n",
       "      <td>162000</td>\n",
       "      <td>129000</td>\n",
       "      <td>7197</td>\n",
       "      <td>937881.0</td>\n",
       "      <td>1</td>\n",
       "    </tr>\n",
       "    <tr>\n",
       "      <th>2</th>\n",
       "      <td>2</td>\n",
       "      <td>NaN</td>\n",
       "      <td>@BeKhatereMan\\n.\\nاگر شما هم نگران عزیزانتان ...</td>\n",
       "      <td>bache_khordani</td>\n",
       "      <td>NaN</td>\n",
       "      <td>5838</td>\n",
       "      <td>794</td>\n",
       "      <td>7</td>\n",
       "      <td>61</td>\n",
       "      <td>30100</td>\n",
       "      <td>23300</td>\n",
       "      <td>862</td>\n",
       "      <td>-240114.0</td>\n",
       "      <td>0</td>\n",
       "    </tr>\n",
       "    <tr>\n",
       "      <th>3</th>\n",
       "      <td>3</td>\n",
       "      <td>NaN</td>\n",
       "      <td>@BeKhatereMan\\n.\\nاگر شما هم نگران عزیزانتان ...</td>\n",
       "      <td>ajibtar_az_elm</td>\n",
       "      <td>636403.0</td>\n",
       "      <td>14327</td>\n",
       "      <td>2319</td>\n",
       "      <td>12</td>\n",
       "      <td>117</td>\n",
       "      <td>55971</td>\n",
       "      <td>44949</td>\n",
       "      <td>2445</td>\n",
       "      <td>57001.0</td>\n",
       "      <td>1</td>\n",
       "    </tr>\n",
       "    <tr>\n",
       "      <th>4</th>\n",
       "      <td>4</td>\n",
       "      <td>NaN</td>\n",
       "      <td>@BeKhatereMan\\n.\\nاگر شما هم نگران عزیزانتان ...</td>\n",
       "      <td>banoo.page</td>\n",
       "      <td>1476998.0</td>\n",
       "      <td>10305</td>\n",
       "      <td>2327</td>\n",
       "      <td>9</td>\n",
       "      <td>90</td>\n",
       "      <td>53348</td>\n",
       "      <td>41028</td>\n",
       "      <td>2418</td>\n",
       "      <td>-83769.0</td>\n",
       "      <td>0</td>\n",
       "    </tr>\n",
       "  </tbody>\n",
       "</table>\n",
       "</div>"
      ],
      "text/plain": [
       "   index    post_link                                            caption  \\\n",
       "0      0  BX3IiPYHOaN   @BeKhatereMan\\n.\\nاگر شما هم نگران عزیزانتان ...   \n",
       "1      1          NaN   @BeKhatereMan\\n.\\nاگر شما هم نگران عزیزانتان ...   \n",
       "2      2          NaN   @BeKhatereMan\\n.\\nاگر شما هم نگران عزیزانتان ...   \n",
       "3      3          NaN   @BeKhatereMan\\n.\\nاگر شما هم نگران عزیزانتان ...   \n",
       "4      4          NaN   @BeKhatereMan\\n.\\nاگر شما هم نگران عزیزانتان ...   \n",
       "\n",
       "          user_id  followers_current   view  like  comment  save  impression  \\\n",
       "0   akharinkhabar           992000.0  21489  2306       16   165       60643   \n",
       "1     3kansbartar          1502221.0  39495  6809       36   352      162000   \n",
       "2  bache_khordani                NaN   5838   794        7    61       30100   \n",
       "3  ajibtar_az_elm           636403.0  14327  2319       12   117       55971   \n",
       "4      banoo.page          1476998.0  10305  2327        9    90       53348   \n",
       "\n",
       "    reach  engagement  price_difference  y  \n",
       "0   51931        2492          307671.0  1  \n",
       "1  129000        7197          937881.0  1  \n",
       "2   23300         862         -240114.0  0  \n",
       "3   44949        2445           57001.0  1  \n",
       "4   41028        2418          -83769.0  0  "
      ]
     },
     "execution_count": 8,
     "metadata": {},
     "output_type": "execute_result"
    }
   ],
   "source": [
    "price_threshold = 35\n",
    "media_no = df_ads.shape[0]\n",
    "ads_cost = 20_000_000\n",
    "each_ad_cost = ads_cost / media_no\n",
    "\n",
    "temp = (df_ads['view'] * price_threshold) - np.floor(each_ad_cost)\n",
    "df_price_difference = pd.DataFrame(data = temp)\n",
    "df_ads['price_difference'] = df_price_difference\n",
    "df_ads['y'] = (df_ads['price_difference'] >= 0).astype(int)\n",
    "df_ads.head()"
   ]
  },
  {
   "cell_type": "markdown",
   "metadata": {},
   "source": [
    "In the cell above we are calculating the actual cost of the advertisement in each medium in contrast of optimum budget for each advertisement medium. This feature is added as 'price_difference', in order to implement a binary classification we need to have a feature containing only two values, so based on the price difference feature I implement new feature as 'y', this feature only contains two values, 0 and 1. When price difference is negative this feature is 0 and when price difference is positive this feature is 1.\n",
    "\n",
    "In the next cell we are going to explore this feature a little bit:"
   ]
  },
  {
   "cell_type": "code",
   "execution_count": 18,
   "metadata": {},
   "outputs": [
    {
     "name": "stdout",
     "output_type": "stream",
     "text": [
      "The state of advertisement media are:\n",
      "0    29\n",
      "1    16\n",
      "Name: y, dtype: int64\n",
      "The overall price difference for price is: 1431675.0\n"
     ]
    }
   ],
   "source": [
    "print('The state of advertisement media are:')\n",
    "print(df_ads['y'].value_counts())\n",
    "print(f'The overall price difference for price is: {sum(df_ads[\"price_difference\"])}')"
   ]
  },
  {
   "cell_type": "markdown",
   "metadata": {},
   "source": [
    "As you can see more than half of the media were overpriced regarding this threshold, but overall cost of this campaign with this threshold is positive and this means that this campaign getting more views regarding the cost of advertisement views."
   ]
  },
  {
   "cell_type": "markdown",
   "metadata": {},
   "source": [
    "#### Equalization\n",
    "\n",
    "One of the Important steps in Data preparations regarding the categorical variable before we try to dummying them, is to make them Equalization. Usually when we are facing categorical variable or binary variables, they are multiple ways to implement same meaning, for instance in categorical variables we can show the positivivity of a variable via 1, True, +, Positive and etc. and negativity of a vriable via 0, False, -, Negative, np.nan and etc. all of these values means same thing but the model couldn't understand this fact, so we have to equalize them, this means that every instance of positive representation of variable should be 1 and vice versa.\n",
    "\n",
    "Fortunately since we just two categorical variables and the data gathering step was held by myself, the data don't have different representation of same meaning."
   ]
  },
  {
   "cell_type": "markdown",
   "metadata": {},
   "source": [
    "#### Addressing Categorical Variable Issue\n",
    "\n",
    "In order to make machine learning algorithms work with categorical data or in other words discrete data, we have to make them continious. I do this step via dummying them. [[Ref. 18]](https://www.sciencedirect.com/science/article/abs/pii/S1755534516300781#!) Please have in mind that this step is necessary for implementing Logistic Regression model, since one of the models is this kind we implement this step so further we won't face any problems regarding this subject.\n",
    "\n",
    "Before making this categorical variables continious, lets explore them."
   ]
  },
  {
   "cell_type": "code",
   "execution_count": 22,
   "metadata": {},
   "outputs": [
    {
     "name": "stdout",
     "output_type": "stream",
     "text": [
      "1 person                                               82\n",
      "2 people                                               23\n",
      "1 person, closeup                                       8\n",
      "1 person, text                                          4\n",
      "1 person, outdoor                                       3\n",
      "2 people, text                                          3\n",
      "one or more people and text                             3\n",
      "4 people                                                2\n",
      "2 people, sunglasses and text                           2\n",
      "1 person, sunglasses                                    2\n",
      "one or more people                                      2\n",
      "indoor                                                  1\n",
      "1 person, standing and outdoor                          1\n",
      "2 people, outdoor                                       1\n",
      "1 person, child                                         1\n",
      "2 people, sunglasses                                    1\n",
      "9 people                                                1\n",
      "‎3 people, ‎text that says '‎                           1\n",
      "1 person, sitting, eyeglasses and closeup               1\n",
      "1 person, text and closeup                              1\n",
      "one or more people, people sleeping and closeup         1\n",
      "1 person, eyeglasses and closeup                        1\n",
      "1 person, sitting and closeup                           1\n",
      "1 person, selfie and closeup                            1\n",
      "1 person, sleeping, baby and closeup                    1\n",
      "1 person, sunglasses and outdoor                        1\n",
      "1 person, closeup and text                              1\n",
      "1 person, sunglasses and text                           1\n",
      "phone                                                   1\n",
      "3 people                                                1\n",
      "shoes                                                   1\n",
      "outdoor                                                 1\n",
      "2 people, closeup                                       1\n",
      "2 people, people standing, tree, outdoor and nature     1\n",
      "Name: image-alt, dtype: int64 \n",
      "\n",
      "influencer    22\n",
      "user          21\n",
      "page           6\n",
      "Name: type, dtype: int64 \n",
      "\n",
      "user              149\n",
      "logo               79\n",
      "video              23\n",
      "situational        19\n",
      "other_ads          18\n",
      "influencer         16\n",
      "artwork             4\n",
      "winner_anounce      3\n",
      "campaign-video      1\n",
      "Name: type, dtype: int64\n"
     ]
    }
   ],
   "source": [
    "print(df_posts['image-alt'].value_counts(), '\\n')\n",
    "print(df_ugc['type'].value_counts(), '\\n')\n",
    "print(df_posts['type'].value_counts())"
   ]
  },
  {
   "cell_type": "markdown",
   "metadata": {},
   "source": [
    "As you can see above, majority of pictures containing 1 person and after that the most frequent one is 2 persons in picture, in ugc posts most of the post are influencers and users equally and regarding the campaign contents, most of pictures are users and in the second degree we have logo content."
   ]
  },
  {
   "cell_type": "code",
   "execution_count": 63,
   "metadata": {},
   "outputs": [
    {
     "data": {
      "image/png": "[encoded data removed]",
      "text/plain": [
       "<Figure size 864x576 with 1 Axes>"
      ]
     },
     "metadata": {
      "needs_background": "light"
     },
     "output_type": "display_data"
    },
    {
     "name": "stdout",
     "output_type": "stream",
     "text": [
      "the top 3 observations and their percentages are:\n",
      "1. \"1 person\": 52.22929936305732 %\n",
      "2. \"2 people\": 14.64968152866242 %\n",
      "3. \"1 person, closeup\": 5.095541401273886 %\n"
     ]
    }
   ],
   "source": [
    "d = df_posts['image-alt'].value_counts().to_dict()\n",
    "colors = [plt.cm.Spectral(i/float(len(d.keys()))) for i in range(len(d.keys()))]\n",
    "fig = plt.figure(figsize = (12, 8))\n",
    "ax = fig.add_subplot()\n",
    "ax.bar(d.keys(), d.values(), color = colors)\n",
    "for i, (k, v) in enumerate(d.items()):\n",
    "    ax.text(k,\n",
    "            v + 1,\n",
    "            v,\n",
    "            color = colors[i],\n",
    "            fontsize = 10,\n",
    "            horizontalalignment = 'center',\n",
    "            verticalalignment = 'center')\n",
    "ax.tick_params(axis = 'x', labelrotation = 90, labelsize = 12)\n",
    "ax.tick_params(axis = 'y', labelsize = 12)\n",
    "ax.set_ylim(0, 85)\n",
    "ax.set_title(\"Number of Observations Per Detected Objects in Content\", fontsize = 14);\n",
    "plt.show()\n",
    "\n",
    "total = sum(df_posts['image-alt'].value_counts())\n",
    "print('the top 3 observations and their percentages are:')\n",
    "print(f'1. \"{list(d.keys())[0]}\": {(df_posts[\"image-alt\"].value_counts()[0]) / total * 100} %')\n",
    "print(f'2. \"{list(d.keys())[1]}\": {(df_posts[\"image-alt\"].value_counts()[1]) / total * 100} %')\n",
    "print(f'3. \"{list(d.keys())[2]}\": {(df_posts[\"image-alt\"].value_counts()[2]) / total * 100} %')"
   ]
  },
  {
   "cell_type": "code",
   "execution_count": 62,
   "metadata": {},
   "outputs": [
    {
     "data": {
      "image/png": "[encoded data removed]",
      "text/plain": [
       "<Figure size 864x576 with 1 Axes>"
      ]
     },
     "metadata": {
      "needs_background": "light"
     },
     "output_type": "display_data"
    },
    {
     "name": "stdout",
     "output_type": "stream",
     "text": [
      "the top 3 content types in campaign posts and their percentages are:\n",
      "1. \"user\": 47.756410256410255 %\n",
      "2. \"logo\": 25.320512820512818 %\n",
      "3. \"video\": 7.371794871794872 %\n"
     ]
    }
   ],
   "source": [
    "d = df_posts['type'].value_counts().to_dict()\n",
    "colors = [plt.cm.Spectral(i/float(len(d.keys()))) for i in range(len(d.keys()))]\n",
    "fig = plt.figure(figsize = (12, 8))\n",
    "ax = fig.add_subplot()\n",
    "ax.bar(d.keys(), d.values(), color = colors)\n",
    "for i, (k, v) in enumerate(d.items()):\n",
    "    ax.text(k,\n",
    "            v + 1,\n",
    "            v,\n",
    "            color = colors[i],\n",
    "            fontsize = 10,\n",
    "            horizontalalignment = 'center',\n",
    "            verticalalignment = 'center')\n",
    "ax.tick_params(axis = 'x', labelrotation = 90, labelsize = 12)\n",
    "ax.tick_params(axis = 'y', labelsize = 12)\n",
    "ax.set_ylim(0, 155)\n",
    "ax.set_title(\"Number of Content types Per Campaign Posts\", fontsize = 14);\n",
    "plt.show()\n",
    "\n",
    "total = sum(df_posts['type'].value_counts())\n",
    "print('the top 3 content types in campaign posts and their percentages are:')\n",
    "print(f'1. \"{list(d.keys())[0]}\": {(df_posts[\"type\"].value_counts()[0]) / total * 100} %')\n",
    "print(f'2. \"{list(d.keys())[1]}\": {(df_posts[\"type\"].value_counts()[1]) / total * 100} %')\n",
    "print(f'3. \"{list(d.keys())[2]}\": {(df_posts[\"type\"].value_counts()[2]) / total * 100} %')"
   ]
  },
  {
   "cell_type": "code",
   "execution_count": 64,
   "metadata": {},
   "outputs": [
    {
     "data": {
      "image/png": "[encoded data removed]",
      "text/plain": [
       "<Figure size 864x576 with 1 Axes>"
      ]
     },
     "metadata": {
      "needs_background": "light"
     },
     "output_type": "display_data"
    },
    {
     "name": "stdout",
     "output_type": "stream",
     "text": [
      "the top 3 content types in UGC posts and their percentages are:\n",
      "1. \"influencer\": 44.89795918367347 %\n",
      "2. \"user\": 42.857142857142854 %\n",
      "3. \"page\": 12.244897959183673 %\n"
     ]
    }
   ],
   "source": [
    "d = df_ugc['type'].value_counts().to_dict()\n",
    "colors = [plt.cm.Spectral(i/float(len(d.keys()))) for i in range(len(d.keys()))]\n",
    "fig = plt.figure(figsize = (12, 8))\n",
    "ax = fig.add_subplot()\n",
    "ax.bar(d.keys(), d.values(), color = colors)\n",
    "for i, (k, v) in enumerate(d.items()):\n",
    "    ax.text(k,\n",
    "            v + 1,\n",
    "            v,\n",
    "            color = colors[i],\n",
    "            fontsize = 10,\n",
    "            horizontalalignment = 'center',\n",
    "            verticalalignment = 'center')\n",
    "ax.tick_params(axis = 'x', labelrotation = 90, labelsize = 12)\n",
    "ax.tick_params(axis = 'y', labelsize = 12)\n",
    "ax.set_ylim(0, 25)\n",
    "ax.set_title(\"Number of Content types Per UGC Posts\", fontsize = 14);\n",
    "plt.show()\n",
    "\n",
    "total = sum(df_ugc['type'].value_counts())\n",
    "print('the top 3 content types in UGC posts and their percentages are:')\n",
    "print(f'1. \"{list(d.keys())[0]}\": {(df_ugc[\"type\"].value_counts()[0]) / total * 100} %')\n",
    "print(f'2. \"{list(d.keys())[1]}\": {(df_ugc[\"type\"].value_counts()[1]) / total * 100} %')\n",
    "print(f'3. \"{list(d.keys())[2]}\": {(df_ugc[\"type\"].value_counts()[2]) / total * 100} %')"
   ]
  },
  {
   "cell_type": "markdown",
   "metadata": {},
   "source": [
    "-----"
   ]
  },
  {
   "cell_type": "markdown",
   "metadata": {},
   "source": [
    "- Ref 1: \"LinkedIn – About\". LinkedIn Corporation. 2015. Retrieved March 5, 2015.\n",
    "- Ref 2: Lemann, Nicholas (October 12, 2015). \"Reid Hoffman's Big Dreams for LinkedIn\". The New Yorker.\n",
    "- Ref 3: \"About LinkedIn\". about.linkedin.com. Retrieved December 16, 2019.\n",
    "- Ref 4: \"Twitter via SMS FAQ\" Retrieved April 4, 2019.\n",
    "- Ref 5: \"About Twitter\" Retrieved April 24, 2014.\n",
    "- Ref 6: \"Tweeting Made Easier\" Retrieved November 7, 2017.\n",
    "- Ref 7: D'Monte, Leslie (April 29, 2009). \"Swine Flu's Tweet Tweet Causes Online Flutter\". Business Standard. Retrieved February 4, 2011. Also known as the 'SMS of the internet', Twitter is a free social networking service'\n",
    "- Ref 8: Twitter overcounted active users since 2014, shares surge on profit hopes\". USA Today.\n",
    "- Ref 9: \"LinkedIn IS NOT Facebook\" - Munna Prawin Feburary 24, 2020\n",
    "- Ref 10: Digital Marketing Pricing: How Much Does Digital Marketing Cost in 2020? - webfx.com\n",
    "- Ref 11: For example: Edwards, Erica B.; Esposito, Jennifer (2019). \"Reading social media intersectionally\". Intersectional Analysis as a Method to Analyze Popular Culture: Clarity in the Matrix. Futures of Data Analysis in Qualitative Research. Abingdon: Routledge. ISBN 9780429557002. Retrieved May 7, 2020. Instagram (IG) is a photo sharing app created in October of 2010 allowing users to share photos and videos.\n",
    "- Ref 12: \"Instagram hits 1 billion monthly users, up from 800M in September\". TechCrunch. Retrieved October 23, 2020.\n",
    "- Ref 13: Christallkeks Pixelsnader Techso01 - Own work Map base: File:BlankMap-World.svg (2019-09-03 version) Information: Alexa's Top 500 sites in each country as of 2019-09-08 - https://en.wikipedia.org/wiki/Instagram#/media/File:Most_popular_social_networking_sites_by_country.svg\n",
    "- Ref 14: Williams, Rhiannon. \"What is Flappy Bird? The game taking the App Store by storm\". The Daily Telegraph. Archived from the original on January 30, 2014. Retrieved January 30, 2014.\n",
    "- Ref 15: https://github.com/LevPasha/Instagram-API-python\n",
    "- Ref 16: https://www.facebook.com/business/help/574941489951914\n",
    "- Ref 17: Stone, Philip J., Dexter C. Dunphy, and Marshall S. Smith. \"The general inquirer: A computer approach to content analysis.\" MIT Press, Cambridge, MA (1966).\n",
    "- Ref 18: Daley, A., Dekker, T., Hess, S., (2016). Dummy coding vs effects coding for categorical variables: Clarifications and extensions. Journal of Choice Modeling, 21, 36-41"
   ]
  },
  {
   "cell_type": "code",
   "execution_count": null,
   "metadata": {},
   "outputs": [],
   "source": []
  }
 ],
 "metadata": {
  "kernelspec": {
   "display_name": "Python 3",
   "language": "python",
   "name": "python3"
  },
  "language_info": {
   "codemirror_mode": {
    "name": "ipython",
    "version": 3
   },
   "file_extension": ".py",
   "mimetype": "text/x-python",
   "name": "python",
   "nbconvert_exporter": "python",
   "pygments_lexer": "ipython3",
   "version": "3.8.5"
  }
 },
 "nbformat": 4,
 "nbformat_minor": 4
}
